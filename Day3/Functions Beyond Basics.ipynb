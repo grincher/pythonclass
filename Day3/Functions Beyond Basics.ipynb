{
 "cells": [
  {
   "cell_type": "markdown",
   "metadata": {},
   "source": [
    "# Discuss Callable Objects, callable instances, and lambdas"
   ]
  },
  {
   "cell_type": "markdown",
   "metadata": {},
   "source": [
    "## Basic Function review\n",
    "\n",
    "How are they resolved"
   ]
  },
  {
   "cell_type": "code",
   "execution_count": 5,
   "metadata": {},
   "outputs": [
    {
     "data": {
      "text/plain": [
       "<function __main__.resolve>"
      ]
     },
     "execution_count": 5,
     "metadata": {},
     "output_type": "execute_result"
    }
   ],
   "source": [
    "import socket\n",
    "\n",
    "def resolve(host):\n",
    "    return socket.gethostbyname(host)\n",
    "\n",
    "\n",
    "# Call it  Functions are callable objects\n",
    "resolve"
   ]
  },
  {
   "cell_type": "code",
   "execution_count": 8,
   "metadata": {},
   "outputs": [
    {
     "data": {
      "text/plain": [
       "'137.190.8.10'"
      ]
     },
     "execution_count": 8,
     "metadata": {},
     "output_type": "execute_result"
    }
   ],
   "source": [
    "# Run it with parameter\n",
    "resolve(\"weber.edu\")"
   ]
  },
  {
   "cell_type": "markdown",
   "metadata": {},
   "source": [
    "## Callable Instances\n",
    "Use the **\\_\\_call\\_\\_()** special method"
   ]
  },
  {
   "cell_type": "code",
   "execution_count": 11,
   "metadata": {
    "collapsed": true
   },
   "outputs": [],
   "source": [
    "import socket\n",
    "class Resolver:\n",
    "    def __init__(self):\n",
    "        self.cache = {}\n",
    "        \n",
    "    def __call__(self, host):\n",
    "        if host not in self.cache:\n",
    "            self.cache[host] = socket.gethostbyname(host)\n",
    "        return self.cache"
   ]
  },
  {
   "cell_type": "code",
   "execution_count": 13,
   "metadata": {},
   "outputs": [
    {
     "data": {
      "text/plain": [
       "{'weber.edu': '137.190.8.10'}"
      ]
     },
     "execution_count": 13,
     "metadata": {},
     "output_type": "execute_result"
    }
   ],
   "source": [
    "resolve = Resolver()\n",
    "resolve(\"weber.edu\")"
   ]
  },
  {
   "cell_type": "code",
   "execution_count": 16,
   "metadata": {},
   "outputs": [
    {
     "data": {
      "text/plain": [
       "{'google.com': '172.217.5.78', 'weber.edu': '137.190.8.10'}"
      ]
     },
     "execution_count": 16,
     "metadata": {},
     "output_type": "execute_result"
    }
   ],
   "source": [
    "resolve(\"google.com\")"
   ]
  },
  {
   "cell_type": "code",
   "execution_count": 19,
   "metadata": {},
   "outputs": [
    {
     "data": {
      "text/plain": [
       "<__main__.Resolver at 0x216ca1d6e80>"
      ]
     },
     "execution_count": 19,
     "metadata": {},
     "output_type": "execute_result"
    }
   ],
   "source": [
    "resolve"
   ]
  },
  {
   "cell_type": "markdown",
   "metadata": {},
   "source": [
    "## Create more methods"
   ]
  },
  {
   "cell_type": "code",
   "execution_count": 34,
   "metadata": {
    "collapsed": true
   },
   "outputs": [],
   "source": [
    "import socket\n",
    "class Resolver:\n",
    "    def __init__(self):\n",
    "        self.cache = {}\n",
    "        \n",
    "    def __call__(self, host):\n",
    "        if host not in self.cache:\n",
    "            self.cache[host] = socket.gethostbyname(host)\n",
    "        return self.cache[host]\n",
    "    \n",
    "    def clear (self):\n",
    "        self.cache.clear()\n",
    "        \n",
    "    def has_host(self, host):\n",
    "        return host in self.cache"
   ]
  },
  {
   "cell_type": "code",
   "execution_count": 35,
   "metadata": {},
   "outputs": [
    {
     "data": {
      "text/plain": [
       "'137.190.8.10'"
      ]
     },
     "execution_count": 35,
     "metadata": {},
     "output_type": "execute_result"
    }
   ],
   "source": [
    "resolve = Resolver()\n",
    "resolve(\"weber.edu\")"
   ]
  },
  {
   "cell_type": "code",
   "execution_count": 36,
   "metadata": {},
   "outputs": [
    {
     "data": {
      "text/plain": [
       "True"
      ]
     },
     "execution_count": 36,
     "metadata": {},
     "output_type": "execute_result"
    }
   ],
   "source": [
    "resolve.has_host(\"weber.edu\")"
   ]
  },
  {
   "cell_type": "code",
   "execution_count": 41,
   "metadata": {},
   "outputs": [
    {
     "data": {
      "text/plain": [
       "False"
      ]
     },
     "execution_count": 41,
     "metadata": {},
     "output_type": "execute_result"
    }
   ],
   "source": [
    "resolve.has_host(\"wacko\")"
   ]
  },
  {
   "cell_type": "code",
   "execution_count": 31,
   "metadata": {
    "collapsed": true
   },
   "outputs": [],
   "source": [
    "resolve.clear()"
   ]
  },
  {
   "cell_type": "markdown",
   "metadata": {},
   "source": [
    "The dunder-call method can be used to define classes, swhich when instantiated can be called using regular function syntax"
   ]
  },
  {
   "cell_type": "markdown",
   "metadata": {},
   "source": [
    "## Classes are callable"
   ]
  },
  {
   "cell_type": "code",
   "execution_count": 38,
   "metadata": {},
   "outputs": [
    {
     "data": {
      "text/plain": [
       "__main__.Resolver"
      ]
     },
     "execution_count": 38,
     "metadata": {},
     "output_type": "execute_result"
    }
   ],
   "source": [
    "Resolver"
   ]
  },
  {
   "cell_type": "code",
   "execution_count": 40,
   "metadata": {},
   "outputs": [
    {
     "data": {
      "text/plain": [
       "<__main__.Resolver at 0x216cb348d30>"
      ]
     },
     "execution_count": 40,
     "metadata": {},
     "output_type": "execute_result"
    }
   ],
   "source": [
    "resolve = Resolver()\n",
    "resolve"
   ]
  },
  {
   "cell_type": "code",
   "execution_count": 44,
   "metadata": {
    "collapsed": true
   },
   "outputs": [],
   "source": [
    "def sequence_class(immutable):\n",
    "    if immutable:\n",
    "        cls = tuple\n",
    "    else:\n",
    "        cls = list\n",
    "\n",
    "    return cls"
   ]
  },
  {
   "cell_type": "code",
   "execution_count": 56,
   "metadata": {},
   "outputs": [
    {
     "data": {
      "text/plain": [
       "tuple"
      ]
     },
     "execution_count": 56,
     "metadata": {},
     "output_type": "execute_result"
    }
   ],
   "source": [
    "sequence_class(1)"
   ]
  },
  {
   "cell_type": "code",
   "execution_count": 61,
   "metadata": {
    "collapsed": true
   },
   "outputs": [],
   "source": [
    "seq = sequence_class(immutable=True)"
   ]
  },
  {
   "cell_type": "code",
   "execution_count": 63,
   "metadata": {},
   "outputs": [
    {
     "name": "stdout",
     "output_type": "stream",
     "text": [
      "('T', 'i', 'm', 'b', 'u', 'k', 't', 'u')\n",
      "<class 'tuple'>\n"
     ]
    }
   ],
   "source": [
    "t = seq(\"Timbuktu\")\n",
    "print(t)\n",
    "print(type(t))"
   ]
  },
  {
   "cell_type": "markdown",
   "metadata": {},
   "source": [
    "## Lambdas\n",
    "Anonymous functions.  It uses the **lambda construct**.\n",
    "A good example is **sorted** keyword, which is callable that expects a series accepting optional key arguments"
   ]
  },
  {
   "cell_type": "code",
   "execution_count": 64,
   "metadata": {},
   "outputs": [
    {
     "name": "stdout",
     "output_type": "stream",
     "text": [
      "Help on built-in function sorted in module builtins:\n",
      "\n",
      "sorted(iterable, key=None, reverse=False)\n",
      "    Return a new list containing all items from the iterable in ascending order.\n",
      "    \n",
      "    A custom key function can be supplied to customise the sort order, and the\n",
      "    reverse flag can be set to request the result in descending order.\n",
      "\n"
     ]
    }
   ],
   "source": [
    "help(sorted)"
   ]
  },
  {
   "cell_type": "code",
   "execution_count": 65,
   "metadata": {
    "collapsed": true
   },
   "outputs": [],
   "source": [
    "def test_sequence_class():\n",
    "    seq = sequence_class(immutable=True)\n",
    "    t = seq(\"Timbuktu\")\n",
    "    print(t)\n",
    "    print(type(t))"
   ]
  },
  {
   "cell_type": "code",
   "execution_count": 70,
   "metadata": {
    "collapsed": true
   },
   "outputs": [],
   "source": [
    "def test_lambda():\n",
    "    scientists = {\"marie curie\", \"alber einstein\", \"niels bohr\", \"charles darwin\", \"isaac newton\"}\n",
    "    print(sorted(scientists, key = lambda name: name.split()[-1]))"
   ]
  },
  {
   "cell_type": "code",
   "execution_count": 71,
   "metadata": {},
   "outputs": [
    {
     "name": "stdout",
     "output_type": "stream",
     "text": [
      "['niels bohr', 'marie curie', 'charles darwin', 'alber einstein', 'isaac newton']\n"
     ]
    }
   ],
   "source": [
    "test_lambda()"
   ]
  },
  {
   "cell_type": "code",
   "execution_count": 76,
   "metadata": {},
   "outputs": [
    {
     "data": {
      "text/plain": [
       "<function __main__.<lambda>>"
      ]
     },
     "execution_count": 76,
     "metadata": {},
     "output_type": "execute_result"
    }
   ],
   "source": [
    "# Define lambda\n",
    "last_name = lambda name: name.split()[-1]\n",
    "last_name"
   ]
  },
  {
   "cell_type": "code",
   "execution_count": 77,
   "metadata": {},
   "outputs": [
    {
     "data": {
      "text/plain": [
       "'tesla'"
      ]
     },
     "execution_count": 77,
     "metadata": {},
     "output_type": "execute_result"
    }
   ],
   "source": [
    "last_name(\"nikola tesla\")"
   ]
  },
  {
   "cell_type": "code",
   "execution_count": 78,
   "metadata": {},
   "outputs": [
    {
     "data": {
      "text/plain": [
       "'nikola'"
      ]
     },
     "execution_count": 78,
     "metadata": {},
     "output_type": "execute_result"
    }
   ],
   "source": [
    "def first_name(name):\n",
    "    return name.split()[0]\n",
    "\n",
    "first_name(\"nikola tesla\")"
   ]
  },
  {
   "cell_type": "markdown",
   "metadata": {},
   "source": [
    "## Considerations on using lambda or defined function\n",
    "\n",
    "### Lambda\n",
    "1. Expresssion which evaluates a function\n",
    "2. Anonymous\n",
    "3. Argument list terminated by colon, separated by commas,\n",
    "4. Zero or more arguments supported: zero arguments -> lambda:\n",
    "5. Body is a single expression\n",
    "6. The Return value is given by the body of the expression\n",
    "7. Testing is awkward or impossible\n",
    "\n",
    "### Definitions\n",
    "1. Statement which defines a function and binds it to a name\n",
    "2. When you must have a name\n",
    "3. Arguments are delimited by parens, separated by commas\n",
    "4. Zero or more arguments supported: zero arguments -> empty parens\n",
    "5. The body is an indented block of statements\n",
    "6. A return statement is required to return anything other than None.\n",
    "7. Easy to access for testing"
   ]
  },
  {
   "cell_type": "markdown",
   "metadata": {},
   "source": [
    "## Detecting Callable Objects\n",
    "Use the **callable()** function"
   ]
  },
  {
   "cell_type": "code",
   "execution_count": 79,
   "metadata": {},
   "outputs": [
    {
     "data": {
      "text/plain": [
       "True"
      ]
     },
     "execution_count": 79,
     "metadata": {},
     "output_type": "execute_result"
    }
   ],
   "source": [
    "def is_even(x):\n",
    "    return(x % 2 == 0)\n",
    "\n",
    "callable(is_even)"
   ]
  },
  {
   "cell_type": "markdown",
   "metadata": {},
   "source": [
    "Lambdas are callable:"
   ]
  },
  {
   "cell_type": "code",
   "execution_count": 80,
   "metadata": {},
   "outputs": [
    {
     "data": {
      "text/plain": [
       "True"
      ]
     },
     "execution_count": 80,
     "metadata": {},
     "output_type": "execute_result"
    }
   ],
   "source": [
    "is_odd = lambda x: x % 2 == 1\n",
    "callable(is_odd)"
   ]
  },
  {
   "cell_type": "markdown",
   "metadata": {},
   "source": [
    "Classes are callable:"
   ]
  },
  {
   "cell_type": "code",
   "execution_count": 81,
   "metadata": {},
   "outputs": [
    {
     "data": {
      "text/plain": [
       "True"
      ]
     },
     "execution_count": 81,
     "metadata": {},
     "output_type": "execute_result"
    }
   ],
   "source": [
    "callable(list)"
   ]
  },
  {
   "cell_type": "markdown",
   "metadata": {},
   "source": [
    "Methods are callable:"
   ]
  },
  {
   "cell_type": "code",
   "execution_count": 82,
   "metadata": {},
   "outputs": [
    {
     "data": {
      "text/plain": [
       "True"
      ]
     },
     "execution_count": 82,
     "metadata": {},
     "output_type": "execute_result"
    }
   ],
   "source": [
    "callable(list.insert)"
   ]
  },
  {
   "cell_type": "markdown",
   "metadata": {},
   "source": [
    "Object Instances are callable (by defining the dunder-call method):"
   ]
  },
  {
   "cell_type": "code",
   "execution_count": 83,
   "metadata": {},
   "outputs": [
    {
     "data": {
      "text/plain": [
       "True"
      ]
     },
     "execution_count": 83,
     "metadata": {},
     "output_type": "execute_result"
    }
   ],
   "source": [
    "class CallMe:\n",
    "    def __call__(self):\n",
    "        print(\"Called\")\n",
    "\n",
    "call_me = CallMe()\n",
    "callable(call_me)"
   ]
  },
  {
   "cell_type": "markdown",
   "metadata": {},
   "source": [
    "However, many objects are not callable, for example:"
   ]
  },
  {
   "cell_type": "code",
   "execution_count": 84,
   "metadata": {},
   "outputs": [
    {
     "data": {
      "text/plain": [
       "False"
      ]
     },
     "execution_count": 84,
     "metadata": {},
     "output_type": "execute_result"
    }
   ],
   "source": [
    "callable(\"This is not callable\")"
   ]
  },
  {
   "cell_type": "markdown",
   "metadata": {
    "collapsed": true
   },
   "source": [
    "# Day 3 Notes and Stuff\n",
    "\n",
    "## Positional Arguments"
   ]
  },
  {
   "cell_type": "code",
   "execution_count": 2,
   "metadata": {},
   "outputs": [
    {
     "name": "stdout",
     "output_type": "stream",
     "text": [
      "one\n"
     ]
    }
   ],
   "source": [
    "# one positional argument\n",
    "print(\"one\")"
   ]
  },
  {
   "cell_type": "code",
   "execution_count": 3,
   "metadata": {},
   "outputs": [
    {
     "name": "stdout",
     "output_type": "stream",
     "text": [
      "one two\n"
     ]
    }
   ],
   "source": [
    "# Two positional arguments\n",
    "print(\"one\", \"two\")"
   ]
  },
  {
   "cell_type": "markdown",
   "metadata": {},
   "source": [
    "# Arbitrary number of arguments *args"
   ]
  },
  {
   "cell_type": "code",
   "execution_count": 4,
   "metadata": {
    "collapsed": true
   },
   "outputs": [],
   "source": [
    "def hyper_volume(*args):\n",
    "    print(args)\n",
    "    print(type(args))"
   ]
  },
  {
   "cell_type": "code",
   "execution_count": 5,
   "metadata": {},
   "outputs": [
    {
     "name": "stdout",
     "output_type": "stream",
     "text": [
      "(3, 4)\n",
      "<class 'tuple'>\n",
      "(3, 4, 5, 6)\n",
      "<class 'tuple'>\n"
     ]
    }
   ],
   "source": [
    "# test hyper_volume\n",
    "hyper_volume(3,4)\n",
    "hyper_volume(3,4,5,6)"
   ]
  },
  {
   "cell_type": "code",
   "execution_count": 12,
   "metadata": {
    "collapsed": true
   },
   "outputs": [],
   "source": [
    "# zero parameters causes iterator failure\n",
    "def hyper_volume(*lengths):\n",
    "    i = iter(lengths)\n",
    "    v = next(i)\n",
    "    for item in i:\n",
    "        v *= length\n",
    "    print(\"hyper_volume:\", v)\n",
    "    return(v)"
   ]
  },
  {
   "cell_type": "code",
   "execution_count": 11,
   "metadata": {},
   "outputs": [
    {
     "name": "stdout",
     "output_type": "stream",
     "text": [
      "hyper_volume: 0\n",
      "hyper_volume: 1\n",
      "hyper_volume: 6\n"
     ]
    },
    {
     "data": {
      "text/plain": [
       "6"
      ]
     },
     "execution_count": 11,
     "metadata": {},
     "output_type": "execute_result"
    }
   ],
   "source": [
    "hyper_volume(0)\n",
    "hyper_volume(1)\n",
    "hyper_volume(2,3)"
   ]
  },
  {
   "cell_type": "code",
   "execution_count": 17,
   "metadata": {
    "collapsed": true
   },
   "outputs": [],
   "source": [
    "# zero parameters issue prevented by requiring at least one (coder will get more understandable parameter error if non provided)\n",
    "def hyper_volume(length, *lengths):\n",
    "    v = length\n",
    "    for item in lengths:\n",
    "        v *= item\n",
    "    print(\"hyper_volume:\", v)\n",
    "    return(v)"
   ]
  },
  {
   "cell_type": "code",
   "execution_count": 19,
   "metadata": {},
   "outputs": [
    {
     "name": "stdout",
     "output_type": "stream",
     "text": [
      "hyper_volume: 0\n",
      "hyper_volume: 1\n",
      "hyper_volume: 6\n"
     ]
    },
    {
     "data": {
      "text/plain": [
       "6"
      ]
     },
     "execution_count": 19,
     "metadata": {},
     "output_type": "execute_result"
    }
   ],
   "source": [
    "hyper_volume(0)\n",
    "hyper_volume(1)\n",
    "hyper_volume(2,3)"
   ]
  },
  {
   "cell_type": "markdown",
   "metadata": {},
   "source": [
    "**\\*args** syntax only collects positional parameters"
   ]
  },
  {
   "cell_type": "markdown",
   "metadata": {},
   "source": [
    "## Arbitrary number of **keyword** parameters\n",
    "Use **\\*\\*kewargs**"
   ]
  },
  {
   "cell_type": "code",
   "execution_count": 23,
   "metadata": {},
   "outputs": [],
   "source": [
    "# name: required parameter\n",
    "# **kwargs optional keyword arguments\n",
    "def tag(name, **kwargs):\n",
    "    print(name)\n",
    "    print(kwargs)\n",
    "    print(type(kwargs))"
   ]
  },
  {
   "cell_type": "code",
   "execution_count": 26,
   "metadata": {},
   "outputs": [
    {
     "name": "stdout",
     "output_type": "stream",
     "text": [
      "test\n",
      "{}\n",
      "<class 'dict'>\n",
      "test2\n",
      "{'two': 'two'}\n",
      "<class 'dict'>\n",
      "test3\n",
      "{'three': 'three', 'two': 'two'}\n",
      "<class 'dict'>\n",
      "img\n",
      "{'alt': 'sunrise by me', 'border': 1, 'src': 'monet.jpg'}\n",
      "<class 'dict'>\n"
     ]
    }
   ],
   "source": [
    "tag(\"test\")\n",
    "tag(\"test2\", two=\"two\")\n",
    "tag(\"test3\", two=\"two\", three=\"three\")\n",
    "tag('img', src=\"monet.jpg\", alt=\"sunrise by me\", border=1)"
   ]
  },
  {
   "cell_type": "code",
   "execution_count": 58,
   "metadata": {},
   "outputs": [],
   "source": [
    "# name: required parameter\n",
    "# **attributes optional keyword arguments\n",
    "def tag(name, **attributes):\n",
    "    result = '<' + name\n",
    "    # dict.items() returns key and value\n",
    "    for key, value in attributes.items():\n",
    "        result += \" {k}=\\\"{v}\\\"\".format(k=key, v=str(value))\n",
    "    result += '>'\n",
    "    print(result)"
   ]
  },
  {
   "cell_type": "code",
   "execution_count": 59,
   "metadata": {},
   "outputs": [
    {
     "name": "stdout",
     "output_type": "stream",
     "text": [
      "<test>\n",
      "<test2 two=\"two\">\n",
      "<test3 three=\"three\" two=\"two\">\n",
      "<img alt=\"sunrise by me\" border=\"1\" src=\"monet.jpg\">\n"
     ]
    }
   ],
   "source": [
    "tag(\"test\")\n",
    "tag(\"test2\", two=\"two\")\n",
    "tag(\"test3\", two=\"two\", three=\"three\")\n",
    "tag('img', src=\"monet.jpg\", alt=\"sunrise by me\", border=1)"
   ]
  },
  {
   "cell_type": "code",
   "execution_count": 60,
   "metadata": {},
   "outputs": [
    {
     "ename": "SyntaxError",
     "evalue": "invalid syntax (<ipython-input-60-46962524711f>, line 1)",
     "output_type": "error",
     "traceback": [
      "\u001b[1;36m  File \u001b[1;32m\"<ipython-input-60-46962524711f>\"\u001b[1;36m, line \u001b[1;32m1\u001b[0m\n\u001b[1;33m    def print_args(**kargs, *args):\u001b[0m\n\u001b[1;37m                          ^\u001b[0m\n\u001b[1;31mSyntaxError\u001b[0m\u001b[1;31m:\u001b[0m invalid syntax\n"
     ]
    }
   ],
   "source": [
    "def print_args(**kargs, *args):\n",
    "    print(kargs)\n",
    "    print(args)"
   ]
  },
  {
   "cell_type": "markdown",
   "metadata": {},
   "source": [
    "# Parameter Order\n",
    "1) All your required parameters\n",
    "\n",
    "2) Follow (optional), arbitraray positional parameters \\*args\n",
    "\n",
    "3) Required key word arguments\n",
    "\n",
    "4) Last (optional), arbitrary keyword parameters \\*\\*kwargs\n"
   ]
  },
  {
   "cell_type": "code",
   "execution_count": 63,
   "metadata": {},
   "outputs": [
    {
     "name": "stdout",
     "output_type": "stream",
     "text": [
      "('maybe',)\n"
     ]
    }
   ],
   "source": [
    "# this is valid\n",
    "def print_args(arg1, arg2, *args):\n",
    "    print(args)\n",
    "    \n",
    "# test it\n",
    "print_args(\"yes\", \"no\", \"maybe\")"
   ]
  },
  {
   "cell_type": "code",
   "execution_count": 69,
   "metadata": {},
   "outputs": [
    {
     "name": "stdout",
     "output_type": "stream",
     "text": [
      "2\n",
      "99\n",
      "()\n",
      "neato\n",
      "{}\n",
      "2\n",
      "99\n",
      "(22,)\n",
      "neato\n",
      "{'test': 'whoop'}\n",
      "2\n",
      "99\n",
      "(22, 23)\n",
      "neato\n",
      "{'test': 'whoop'}\n",
      "2\n",
      "99\n",
      "(22, 23, ['a', 'b'])\n",
      "neato\n",
      "{'gain': 37, 'test': 'whoop'}\n"
     ]
    }
   ],
   "source": [
    "# this is also valid\n",
    "def print_args(arg1, arg2, *args, kwarg1, **kwargs):\n",
    "    print(arg1)\n",
    "    print(arg2)\n",
    "    print(args)\n",
    "    print(kwarg1)\n",
    "    print(kwargs)\n",
    "\n",
    "# test it\n",
    "print_args(2, 99, kwarg1=\"neato\")\n",
    "print_args(2, 99, 22, kwarg1=\"neato\", test=\"whoop\")\n",
    "print_args(2, 99, 22, 23, kwarg1=\"neato\", test=\"whoop\")\n",
    "print_args(2, 99, 22, 23, ['a','b'], kwarg1=\"neato\", test=\"whoop\", gain=37)"
   ]
  },
  {
   "cell_type": "markdown",
   "metadata": {},
   "source": [
    "## Forwarding arguments\n",
    "One of the most common usese of \\*args and \\*\\*kwargs is to pass the parameters from a function to another function"
   ]
  },
  {
   "cell_type": "code",
   "execution_count": 72,
   "metadata": {},
   "outputs": [
    {
     "data": {
      "text/plain": [
       "255"
      ]
     },
     "execution_count": 72,
     "metadata": {},
     "output_type": "execute_result"
    }
   ],
   "source": [
    "def trace(f, *args, **kwargs):\n",
    "    print(\"args =\", args)\n",
    "    print(\"kwargs=\", kwargs)\n",
    "    result = f(*args, **kwargs)\n",
    "    print(\"result =\", result)\n",
    "    return(result)\n",
    "\n",
    "int(\"ff\", base=16)"
   ]
  },
  {
   "cell_type": "code",
   "execution_count": 74,
   "metadata": {},
   "outputs": [
    {
     "name": "stdout",
     "output_type": "stream",
     "text": [
      "args = ('ff',)\n",
      "kwargs= {'base': 16}\n",
      "result = 255\n"
     ]
    },
    {
     "data": {
      "text/plain": [
       "255"
      ]
     },
     "execution_count": 74,
     "metadata": {},
     "output_type": "execute_result"
    }
   ],
   "source": [
    "trace(int, \"ff\", base=16)"
   ]
  },
  {
   "cell_type": "markdown",
   "metadata": {},
   "source": [
    "## Transposing Tables"
   ]
  },
  {
   "cell_type": "code",
   "execution_count": 76,
   "metadata": {},
   "outputs": [
    {
     "name": "stdout",
     "output_type": "stream",
     "text": [
      "(12, 12, 10)\n",
      "(14, 15, 13)\n",
      "(15, 16, 12)\n",
      "(15, 17, 19)\n",
      "(17, 19, 20)\n",
      "(21, 22, 23)\n",
      "(22, 21, 26)\n",
      "(23, 20, 19)\n",
      "(20, 19, 19)\n",
      "(15, 15, 12)\n"
     ]
    }
   ],
   "source": [
    "def test_tables():\n",
    "    sunday = [12, 14, 15, 15, 17, 21, 22, 23, 20, 15]\n",
    "    monday = [12, 15, 16, 17, 19, 22, 21, 20, 19, 15]\n",
    "    tuesday =[10, 13, 12, 19, 20, 23, 26, 19, 19, 12]\n",
    "\n",
    "    # Use the built-in zip function to combine iterables series of elements into one series of tuples\n",
    "    for item in zip (sunday, monday, tuesday):\n",
    "        print(item)\n",
    "        \n",
    "# test test_tables()\n",
    "test_tables()\n",
    "\n",
    "    "
   ]
  },
  {
   "cell_type": "code",
   "execution_count": 79,
   "metadata": {},
   "outputs": [
    {
     "name": "stdout",
     "output_type": "stream",
     "text": [
      "[[12, 14, 15, 15, 17, 21, 22, 23, 20, 15],\n",
      " [12, 15, 16, 17, 19, 22, 21, 20, 19, 15],\n",
      " [10, 13, 12, 19, 20, 23, 26, 19, 19, 12]]\n",
      "(12, 12, 10)\n",
      "(14, 15, 13)\n",
      "(15, 16, 12)\n",
      "(15, 17, 19)\n",
      "(17, 19, 20)\n",
      "(21, 22, 23)\n",
      "(22, 21, 26)\n",
      "(23, 20, 19)\n",
      "(20, 19, 19)\n",
      "(15, 15, 12)\n"
     ]
    }
   ],
   "source": [
    "from pprint import pprint as pp\n",
    "# define new data\n",
    "sunday = [12, 14, 15, 15, 17, 21, 22, 23, 20, 15]\n",
    "monday = [12, 15, 16, 17, 19, 22, 21, 20, 19, 15]\n",
    "tuesday =[10, 13, 12, 19, 20, 23, 26, 19, 19, 12]\n",
    "# combine these lists into a list of list\n",
    "daily = [sunday, monday, tuesday]\n",
    "pp(daily)\n",
    "\n",
    "for item in zip(sunday, monday, tuesday):\n",
    "    print(item)"
   ]
  },
  {
   "cell_type": "code",
   "execution_count": 81,
   "metadata": {},
   "outputs": [
    {
     "name": "stdout",
     "output_type": "stream",
     "text": [
      "(12, 12, 10)\n",
      "(14, 15, 13)\n",
      "(15, 16, 12)\n",
      "(15, 17, 19)\n",
      "(17, 19, 20)\n",
      "(21, 22, 23)\n",
      "(22, 21, 26)\n",
      "(23, 20, 19)\n",
      "(20, 19, 19)\n",
      "(15, 15, 12)\n"
     ]
    }
   ],
   "source": [
    "for item in zip(*daily):\n",
    "    print(item)"
   ]
  },
  {
   "cell_type": "code",
   "execution_count": 82,
   "metadata": {},
   "outputs": [
    {
     "name": "stdout",
     "output_type": "stream",
     "text": [
      "[[12, 14, 15, 15, 17, 21, 22, 23, 20, 15],\n",
      " [12, 15, 16, 17, 19, 22, 21, 20, 19, 15],\n",
      " [10, 13, 12, 19, 20, 23, 26, 19, 19, 12]]\n",
      "[(12, 12, 10),\n",
      " (14, 15, 13),\n",
      " (15, 16, 12),\n",
      " (15, 17, 19),\n",
      " (17, 19, 20),\n",
      " (21, 22, 23),\n",
      " (22, 21, 26),\n",
      " (23, 20, 19),\n",
      " (20, 19, 19),\n",
      " (15, 15, 12)]\n"
     ]
    }
   ],
   "source": [
    "# Transpose the data\n",
    "pp(daily) #original\n",
    "transpose = list(zip(*daily))\n",
    "pp(transpose)"
   ]
  }
 ],
 "metadata": {
  "kernelspec": {
   "display_name": "Python 3",
   "language": "python",
   "name": "python3"
  },
  "language_info": {
   "codemirror_mode": {
    "name": "ipython",
    "version": 3
   },
   "file_extension": ".py",
   "mimetype": "text/x-python",
   "name": "python",
   "nbconvert_exporter": "python",
   "pygments_lexer": "ipython3",
   "version": "3.5.1"
  }
 },
 "nbformat": 4,
 "nbformat_minor": 2
}
