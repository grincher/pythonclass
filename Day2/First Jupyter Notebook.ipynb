{
 "cells": [
  {
   "cell_type": "markdown",
   "metadata": {},
   "source": [
    "# First Jupyter Book\n",
    "## how to run the cells\n",
    "# Execute cell:\n",
    "ctrl-enter\n",
    "# Execute cell and insert below\n",
    "shift-enter\n",
    "# To change cell type from code to markdown\n",
    "press ESC to enter command mode (blue), then type m\n",
    "# To change cell type from markdown to code\n",
    "press ESC to enter command mode (blue), then type y\n",
    "# To delete a cell\n",
    "ESC dd"
   ]
  },
  {
   "cell_type": "code",
   "execution_count": 3,
   "metadata": {},
   "outputs": [
    {
     "name": "stdout",
     "output_type": "stream",
     "text": [
      "hello world\n"
     ]
    }
   ],
   "source": [
    "print(\"hello world\")"
   ]
  },
  {
   "cell_type": "code",
   "execution_count": 5,
   "metadata": {
    "collapsed": true
   },
   "outputs": [],
   "source": [
    "name = \"john\""
   ]
  },
  {
   "cell_type": "code",
   "execution_count": 8,
   "metadata": {},
   "outputs": [
    {
     "name": "stdout",
     "output_type": "stream",
     "text": [
      "john\n"
     ]
    }
   ],
   "source": [
    "print(name)"
   ]
  },
  {
   "cell_type": "markdown",
   "metadata": {},
   "source": [
    "# Sample Headline (H1)\n",
    "*Note: This will be italicized.\n",
    "## Headline (H2)\n",
    "This is normal text.  *italic* **bold**  *combi**nation**!*\n",
    "### What the notebook shows:\n",
    "1. How to get started\n",
    "2. Some shortcuts\n",
    "3. Other stuff"
   ]
  },
  {
   "cell_type": "markdown",
   "metadata": {},
   "source": [
    "## Jupyter supports bash commands\n",
    "prefix with **!**"
   ]
  },
  {
   "cell_type": "code",
   "execution_count": 12,
   "metadata": {},
   "outputs": [
    {
     "name": "stdout",
     "output_type": "stream",
     "text": [
      "appdirs (1.4.3)\n",
      "bleach (2.0.0)\n",
      "colorama (0.3.9)\n",
      "cycler (0.10.0)\n",
      "decorator (4.0.11)\n",
      "entrypoints (0.2.2)\n",
      "html5lib (0.999999999)\n",
      "ipykernel (4.6.1)\n",
      "ipython (6.0.0)\n",
      "ipython-genutils (0.2.0)\n",
      "ipywidgets (6.0.0)\n",
      "jedi (0.10.2)\n",
      "Jinja2 (2.9.6)\n",
      "jsonschema (2.6.0)\n",
      "jupyter (1.0.0)\n",
      "jupyter-client (5.0.1)\n",
      "jupyter-console (5.1.0)\n",
      "jupyter-core (4.3.0)\n",
      "MarkupSafe (1.0)\n",
      "matplotlib (2.0.2)\n",
      "mistune (0.7.4)\n",
      "nbconvert (5.1.1)\n",
      "nbformat (4.3.0)\n",
      "notebook (5.0.0)\n",
      "numpy (1.12.1)\n",
      "packaging (16.8)\n",
      "pandas (0.20.1)\n",
      "pandocfilters (1.4.1)\n",
      "pickleshare (0.7.4)\n",
      "pip (9.0.1)\n",
      "prompt-toolkit (1.0.14)\n",
      "Pygments (2.2.0)\n",
      "pyparsing (2.2.0)\n",
      "python-dateutil (2.6.0)\n",
      "pytz (2017.2)\n",
      "pyzmq (16.0.2)\n",
      "qtconsole (4.3.0)\n",
      "setuptools (35.0.2)\n",
      "simplegeneric (0.8.1)\n",
      "six (1.10.0)\n",
      "testpath (0.3)\n",
      "tornado (4.5.1)\n",
      "traitlets (4.3.2)\n",
      "wcwidth (0.1.7)\n",
      "webencodings (0.5.1)\n",
      "widgetsnbextension (2.0.0)\n",
      "win-unicode-console (0.5)\n"
     ]
    },
    {
     "name": "stderr",
     "output_type": "stream",
     "text": [
      "DEPRECATION: The default format will switch to columns in the future. You can use --format=(legacy|columns) (or define a format=(legacy|columns) in your pip.conf under the [list] section) to disable this warning.\n"
     ]
    }
   ],
   "source": [
    "!pip list"
   ]
  },
  {
   "cell_type": "markdown",
   "metadata": {},
   "source": [
    "# Magic Commands\n",
    "prefix them with %"
   ]
  },
  {
   "cell_type": "code",
   "execution_count": 14,
   "metadata": {},
   "outputs": [
    {
     "data": {
      "application/json": {
       "cell": {
        "!": "OSMagics",
        "HTML": "Other",
        "SVG": "Other",
        "bash": "Other",
        "capture": "ExecutionMagics",
        "cmd": "Other",
        "debug": "ExecutionMagics",
        "file": "Other",
        "html": "DisplayMagics",
        "javascript": "DisplayMagics",
        "js": "DisplayMagics",
        "latex": "DisplayMagics",
        "perl": "Other",
        "prun": "ExecutionMagics",
        "pypy": "Other",
        "python": "Other",
        "python2": "Other",
        "python3": "Other",
        "ruby": "Other",
        "script": "ScriptMagics",
        "sh": "Other",
        "svg": "DisplayMagics",
        "sx": "OSMagics",
        "system": "OSMagics",
        "time": "ExecutionMagics",
        "timeit": "ExecutionMagics",
        "writefile": "OSMagics"
       },
       "line": {
        "alias": "OSMagics",
        "alias_magic": "BasicMagics",
        "autocall": "AutoMagics",
        "automagic": "AutoMagics",
        "autosave": "KernelMagics",
        "bookmark": "OSMagics",
        "cd": "OSMagics",
        "clear": "KernelMagics",
        "cls": "KernelMagics",
        "colors": "BasicMagics",
        "config": "ConfigMagics",
        "connect_info": "KernelMagics",
        "copy": "Other",
        "ddir": "Other",
        "debug": "ExecutionMagics",
        "dhist": "OSMagics",
        "dirs": "OSMagics",
        "doctest_mode": "BasicMagics",
        "echo": "Other",
        "ed": "Other",
        "edit": "KernelMagics",
        "env": "OSMagics",
        "gui": "BasicMagics",
        "hist": "Other",
        "history": "HistoryMagics",
        "killbgscripts": "ScriptMagics",
        "ldir": "Other",
        "less": "KernelMagics",
        "load": "CodeMagics",
        "load_ext": "ExtensionMagics",
        "loadpy": "CodeMagics",
        "logoff": "LoggingMagics",
        "logon": "LoggingMagics",
        "logstart": "LoggingMagics",
        "logstate": "LoggingMagics",
        "logstop": "LoggingMagics",
        "ls": "Other",
        "lsmagic": "BasicMagics",
        "macro": "ExecutionMagics",
        "magic": "BasicMagics",
        "matplotlib": "PylabMagics",
        "mkdir": "Other",
        "more": "KernelMagics",
        "notebook": "BasicMagics",
        "page": "BasicMagics",
        "pastebin": "CodeMagics",
        "pdb": "ExecutionMagics",
        "pdef": "NamespaceMagics",
        "pdoc": "NamespaceMagics",
        "pfile": "NamespaceMagics",
        "pinfo": "NamespaceMagics",
        "pinfo2": "NamespaceMagics",
        "pip": "BasicMagics",
        "popd": "OSMagics",
        "pprint": "BasicMagics",
        "precision": "BasicMagics",
        "profile": "BasicMagics",
        "prun": "ExecutionMagics",
        "psearch": "NamespaceMagics",
        "psource": "NamespaceMagics",
        "pushd": "OSMagics",
        "pwd": "OSMagics",
        "pycat": "OSMagics",
        "pylab": "PylabMagics",
        "qtconsole": "KernelMagics",
        "quickref": "BasicMagics",
        "recall": "HistoryMagics",
        "rehashx": "OSMagics",
        "reload_ext": "ExtensionMagics",
        "ren": "Other",
        "rep": "Other",
        "rerun": "HistoryMagics",
        "reset": "NamespaceMagics",
        "reset_selective": "NamespaceMagics",
        "rmdir": "Other",
        "run": "ExecutionMagics",
        "save": "CodeMagics",
        "sc": "OSMagics",
        "set_env": "OSMagics",
        "store": "StoreMagics",
        "sx": "OSMagics",
        "system": "OSMagics",
        "tb": "ExecutionMagics",
        "time": "ExecutionMagics",
        "timeit": "ExecutionMagics",
        "unalias": "OSMagics",
        "unload_ext": "ExtensionMagics",
        "who": "NamespaceMagics",
        "who_ls": "NamespaceMagics",
        "whos": "NamespaceMagics",
        "xdel": "NamespaceMagics",
        "xmode": "BasicMagics"
       }
      },
      "text/plain": [
       "Available line magics:\n",
       "%alias  %alias_magic  %autocall  %automagic  %autosave  %bookmark  %cd  %clear  %cls  %colors  %config  %connect_info  %copy  %ddir  %debug  %dhist  %dirs  %doctest_mode  %echo  %ed  %edit  %env  %gui  %hist  %history  %killbgscripts  %ldir  %less  %load  %load_ext  %loadpy  %logoff  %logon  %logstart  %logstate  %logstop  %ls  %lsmagic  %macro  %magic  %matplotlib  %mkdir  %more  %notebook  %page  %pastebin  %pdb  %pdef  %pdoc  %pfile  %pinfo  %pinfo2  %popd  %pprint  %precision  %profile  %prun  %psearch  %psource  %pushd  %pwd  %pycat  %pylab  %qtconsole  %quickref  %recall  %rehashx  %reload_ext  %ren  %rep  %rerun  %reset  %reset_selective  %rmdir  %run  %save  %sc  %set_env  %store  %sx  %system  %tb  %time  %timeit  %unalias  %unload_ext  %who  %who_ls  %whos  %xdel  %xmode\n",
       "\n",
       "Available cell magics:\n",
       "%%!  %%HTML  %%SVG  %%bash  %%capture  %%cmd  %%debug  %%file  %%html  %%javascript  %%js  %%latex  %%perl  %%prun  %%pypy  %%python  %%python2  %%python3  %%ruby  %%script  %%sh  %%svg  %%sx  %%system  %%time  %%timeit  %%writefile\n",
       "\n",
       "Automagic is ON, % prefix IS NOT needed for line magics."
      ]
     },
     "execution_count": 14,
     "metadata": {},
     "output_type": "execute_result"
    }
   ],
   "source": [
    "%lsmagic"
   ]
  },
  {
   "cell_type": "code",
   "execution_count": 18,
   "metadata": {},
   "outputs": [
    {
     "data": {
      "text/plain": [
       "'D:\\\\virtualenvs'"
      ]
     },
     "execution_count": 18,
     "metadata": {},
     "output_type": "execute_result"
    }
   ],
   "source": [
    "%pwd"
   ]
  },
  {
   "cell_type": "markdown",
   "metadata": {},
   "source": [
    "Common magic command is the **%matplotlib inline* magic command which enables plots to be displayed"
   ]
  },
  {
   "cell_type": "code",
   "execution_count": 26,
   "metadata": {
    "collapsed": true
   },
   "outputs": [],
   "source": [
    "%matplotlib inline"
   ]
  },
  {
   "cell_type": "code",
   "execution_count": 28,
   "metadata": {},
   "outputs": [
    {
     "data": {
      "image/png": "[encoded data removed]",
      "text/plain": [
       "<matplotlib.figure.Figure at 0x1b1955622e8>"
      ]
     },
     "metadata": {},
     "output_type": "display_data"
    }
   ],
   "source": [
    "\"\"\"\n",
    "Simple demo of scatter plot\n",
    "\"\"\"\n",
    "import numpy as np\n",
    "import matplotlib.pyplot as plt\n",
    "\n",
    "N = 50\n",
    "x = np.random.rand(N)\n",
    "y = np.random.rand(N)\n",
    "colors = np.random.rand(N)\n",
    "\n",
    "area = np.pi * (15 * np.random.rand(N))**2 # 0 to 15 point radius\n",
    "\n",
    "plt.scatter(x, y, s = area, c = colors, alpha = 0.5)\n",
    "plt.show()"
   ]
  },
  {
   "cell_type": "markdown",
   "metadata": {},
   "source": [
    "If it gets stuck on [\\*] then run this command: **Kernel->Restart & Clear Output**"
   ]
  },
  {
   "cell_type": "markdown",
   "metadata": {},
   "source": [
    "## HTML\n",
    "Magic command to render the cells as HTML"
   ]
  },
  {
   "cell_type": "code",
   "execution_count": 35,
   "metadata": {},
   "outputs": [
    {
     "data": {
      "text/html": [
       "<html><body><a href=\"localhost:8888/notebooks\">Jupyter Notebooks</a></html><br>\n",
       "<iframe width=\"560\" height=\"315\" src=\"https://www.youtube.com/embed/MJC2CMvNgaA\" frameborder=\"0\" allowfullscreen></iframe>"
      ],
      "text/plain": [
       "<IPython.core.display.HTML object>"
      ]
     },
     "metadata": {},
     "output_type": "display_data"
    }
   ],
   "source": [
    "%%HTML\n",
    "<html><body><a href=\"localhost:8888/notebooks\">Jupyter Notebooks</a></html><br>\n",
    "<iframe width=\"560\" height=\"315\" src=\"https://www.youtube.com/embed/MJC2CMvNgaA\" frameborder=\"0\" allowfullscreen></iframe>"
   ]
  },
  {
   "cell_type": "markdown",
   "metadata": {},
   "source": [
    "## DataFrames\n",
    "use it to draw frames using pandas"
   ]
  },
  {
   "cell_type": "code",
   "execution_count": 37,
   "metadata": {},
   "outputs": [
    {
     "data": {
      "text/html": [
       "<div>\n",
       "<style>\n",
       "    .dataframe thead tr:only-child th {\n",
       "        text-align: right;\n",
       "    }\n",
       "\n",
       "    .dataframe thead th {\n",
       "        text-align: left;\n",
       "    }\n",
       "\n",
       "    .dataframe tbody tr th {\n",
       "        vertical-align: top;\n",
       "    }\n",
       "</style>\n",
       "<table border=\"1\" class=\"dataframe\">\n",
       "  <thead>\n",
       "    <tr style=\"text-align: right;\">\n",
       "      <th></th>\n",
       "      <th>0</th>\n",
       "      <th>1</th>\n",
       "      <th>2</th>\n",
       "      <th>3</th>\n",
       "      <th>4</th>\n",
       "    </tr>\n",
       "  </thead>\n",
       "  <tbody>\n",
       "    <tr>\n",
       "      <th>0</th>\n",
       "      <td>-0.573538</td>\n",
       "      <td>-0.597679</td>\n",
       "      <td>-0.049934</td>\n",
       "      <td>-0.375716</td>\n",
       "      <td>-0.743185</td>\n",
       "    </tr>\n",
       "    <tr>\n",
       "      <th>1</th>\n",
       "      <td>0.855879</td>\n",
       "      <td>0.769330</td>\n",
       "      <td>0.489515</td>\n",
       "      <td>-0.441058</td>\n",
       "      <td>0.976409</td>\n",
       "    </tr>\n",
       "    <tr>\n",
       "      <th>2</th>\n",
       "      <td>1.859775</td>\n",
       "      <td>0.115538</td>\n",
       "      <td>-0.026227</td>\n",
       "      <td>0.462044</td>\n",
       "      <td>-0.839065</td>\n",
       "    </tr>\n",
       "    <tr>\n",
       "      <th>3</th>\n",
       "      <td>-0.112206</td>\n",
       "      <td>-0.475339</td>\n",
       "      <td>-0.257040</td>\n",
       "      <td>-0.522891</td>\n",
       "      <td>0.060239</td>\n",
       "    </tr>\n",
       "    <tr>\n",
       "      <th>4</th>\n",
       "      <td>1.303353</td>\n",
       "      <td>-0.159559</td>\n",
       "      <td>-1.492979</td>\n",
       "      <td>-0.915509</td>\n",
       "      <td>-0.164860</td>\n",
       "    </tr>\n",
       "    <tr>\n",
       "      <th>5</th>\n",
       "      <td>1.310044</td>\n",
       "      <td>1.488432</td>\n",
       "      <td>-0.859417</td>\n",
       "      <td>1.022709</td>\n",
       "      <td>0.571480</td>\n",
       "    </tr>\n",
       "    <tr>\n",
       "      <th>6</th>\n",
       "      <td>-0.550576</td>\n",
       "      <td>0.147830</td>\n",
       "      <td>-0.901286</td>\n",
       "      <td>1.281588</td>\n",
       "      <td>-0.240562</td>\n",
       "    </tr>\n",
       "    <tr>\n",
       "      <th>7</th>\n",
       "      <td>-1.878413</td>\n",
       "      <td>-1.020920</td>\n",
       "      <td>1.804342</td>\n",
       "      <td>-0.585638</td>\n",
       "      <td>-1.460585</td>\n",
       "    </tr>\n",
       "    <tr>\n",
       "      <th>8</th>\n",
       "      <td>-0.601608</td>\n",
       "      <td>1.094989</td>\n",
       "      <td>-0.888845</td>\n",
       "      <td>1.849005</td>\n",
       "      <td>-2.132473</td>\n",
       "    </tr>\n",
       "    <tr>\n",
       "      <th>9</th>\n",
       "      <td>0.358427</td>\n",
       "      <td>0.085719</td>\n",
       "      <td>2.180655</td>\n",
       "      <td>-0.820673</td>\n",
       "      <td>0.155552</td>\n",
       "    </tr>\n",
       "  </tbody>\n",
       "</table>\n",
       "</div>"
      ],
      "text/plain": [
       "          0         1         2         3         4\n",
       "0 -0.573538 -0.597679 -0.049934 -0.375716 -0.743185\n",
       "1  0.855879  0.769330  0.489515 -0.441058  0.976409\n",
       "2  1.859775  0.115538 -0.026227  0.462044 -0.839065\n",
       "3 -0.112206 -0.475339 -0.257040 -0.522891  0.060239\n",
       "4  1.303353 -0.159559 -1.492979 -0.915509 -0.164860\n",
       "5  1.310044  1.488432 -0.859417  1.022709  0.571480\n",
       "6 -0.550576  0.147830 -0.901286  1.281588 -0.240562\n",
       "7 -1.878413 -1.020920  1.804342 -0.585638 -1.460585\n",
       "8 -0.601608  1.094989 -0.888845  1.849005 -2.132473\n",
       "9  0.358427  0.085719  2.180655 -0.820673  0.155552"
      ]
     },
     "execution_count": 37,
     "metadata": {},
     "output_type": "execute_result"
    }
   ],
   "source": [
    "import pandas as pd\n",
    "import numpy as np\n",
    "\n",
    "# Create random data: 5 columns, 10 rows\n",
    "df = pd.DataFrame(np.random.randn(10,5))\n",
    "df   # display it"
   ]
  },
  {
   "cell_type": "markdown",
   "metadata": {},
   "source": [
    "# Print/Export Options\n",
    "PDF static document, HTML, notebooks (native format)\n",
    "\n",
    "**File->Download As**\n",
    "\n",
    "many examples online"
   ]
  },
  {
   "cell_type": "markdown",
   "metadata": {},
   "source": [
    "# Install more packages"
   ]
  },
  {
   "cell_type": "code",
   "execution_count": 38,
   "metadata": {},
   "outputs": [
    {
     "name": "stdout",
     "output_type": "stream",
     "text": [
      "Collecting pandoc\n",
      "  Downloading pandoc-1.0.0b2.tar.gz (516kB)\n",
      "Collecting ply (from pandoc)\n",
      "  Downloading ply-3.10.tar.gz (150kB)\n",
      "Installing collected packages: ply, pandoc\n",
      "  Running setup.py install for ply: started\n",
      "    Running setup.py install for ply: finished with status 'done'\n",
      "  Running setup.py install for pandoc: started\n",
      "    Running setup.py install for pandoc: finished with status 'done'\n",
      "Successfully installed pandoc-1.0.0b2 ply-3.10\n"
     ]
    }
   ],
   "source": [
    "!pip install pandoc"
   ]
  }
 ],
 "metadata": {
  "kernelspec": {
   "display_name": "Python 3",
   "language": "python",
   "name": "python3"
  },
  "language_info": {
   "codemirror_mode": {
    "name": "ipython",
    "version": 3
   },
   "file_extension": ".py",
   "mimetype": "text/x-python",
   "name": "python",
   "nbconvert_exporter": "python",
   "pygments_lexer": "ipython3",
   "version": "3.5.1"
  }
 },
 "nbformat": 4,
 "nbformat_minor": 2
}
