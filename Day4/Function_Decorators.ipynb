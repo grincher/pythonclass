{
 "cells": [
  {
   "cell_type": "markdown",
   "metadata": {},
   "source": [
    "## Local Function Review"
   ]
  },
  {
   "cell_type": "code",
   "execution_count": 1,
   "metadata": {
    "collapsed": true
   },
   "outputs": [],
   "source": [
    "def outer_function():\n",
    "    message = \"Hi\"\n",
    "    def inner_function():\n",
    "        print(message)\n",
    "    return inner_function()"
   ]
  },
  {
   "cell_type": "code",
   "execution_count": 2,
   "metadata": {},
   "outputs": [
    {
     "name": "stdout",
     "output_type": "stream",
     "text": [
      "Hi\n"
     ]
    }
   ],
   "source": [
    "# Test it\n",
    "outer_function()"
   ]
  },
  {
   "cell_type": "code",
   "execution_count": 3,
   "metadata": {
    "collapsed": true
   },
   "outputs": [],
   "source": [
    "def outer_function():\n",
    "    message = \"Hi\"\n",
    "    def inner_function():\n",
    "        print(message)\n",
    "    return inner_function  # return the function"
   ]
  },
  {
   "cell_type": "code",
   "execution_count": 4,
   "metadata": {},
   "outputs": [
    {
     "data": {
      "text/plain": [
       "<function __main__.outer_function.<locals>.inner_function>"
      ]
     },
     "execution_count": 4,
     "metadata": {},
     "output_type": "execute_result"
    }
   ],
   "source": [
    "my_func = outer_function()\n",
    "my_func"
   ]
  },
  {
   "cell_type": "code",
   "execution_count": 5,
   "metadata": {},
   "outputs": [
    {
     "name": "stdout",
     "output_type": "stream",
     "text": [
      "Hi\n"
     ]
    }
   ],
   "source": [
    "my_func()"
   ]
  },
  {
   "cell_type": "code",
   "execution_count": 6,
   "metadata": {
    "collapsed": true
   },
   "outputs": [],
   "source": [
    "# now add some variables\n",
    "def outer_function(msg):   # added msg\n",
    "    message = msg\n",
    "    def inner_function():\n",
    "        print(message)\n",
    "    return inner_function  # return the function"
   ]
  },
  {
   "cell_type": "code",
   "execution_count": 8,
   "metadata": {},
   "outputs": [
    {
     "name": "stdout",
     "output_type": "stream",
     "text": [
      "Hi\n"
     ]
    }
   ],
   "source": [
    "hi_func = outer_function(\"Hi\")\n",
    "bye_func = outer_function(\"Bye\")\n",
    "\n",
    "# Run it\n",
    "hi_func()"
   ]
  },
  {
   "cell_type": "code",
   "execution_count": 9,
   "metadata": {},
   "outputs": [
    {
     "name": "stdout",
     "output_type": "stream",
     "text": [
      "Bye\n"
     ]
    }
   ],
   "source": [
    "bye_func()"
   ]
  },
  {
   "cell_type": "code",
   "execution_count": 10,
   "metadata": {
    "collapsed": true
   },
   "outputs": [],
   "source": [
    "def outer_function(message):\n",
    "    def inner_function():        # eliminated unnecessary local\n",
    "        print(message)\n",
    "    return inner_function"
   ]
  },
  {
   "cell_type": "code",
   "execution_count": 12,
   "metadata": {},
   "outputs": [
    {
     "name": "stdout",
     "output_type": "stream",
     "text": [
      "Hi\n"
     ]
    }
   ],
   "source": [
    "hi_func = outer_function(\"Hi\")\n",
    "bye_func = outer_function(\"Bye\")\n",
    "\n",
    "# Run it\n",
    "hi_func()"
   ]
  },
  {
   "cell_type": "code",
   "execution_count": 13,
   "metadata": {},
   "outputs": [
    {
     "name": "stdout",
     "output_type": "stream",
     "text": [
      "Bye\n"
     ]
    }
   ],
   "source": [
    "bye_func()"
   ]
  },
  {
   "cell_type": "markdown",
   "metadata": {},
   "source": [
    "## Decorators\n",
    "- A function that takes another function as an argument\n",
    "- Adds some functionality\n",
    "- Returns another function\n",
    "- All of this without altering the original function"
   ]
  },
  {
   "cell_type": "code",
   "execution_count": 14,
   "metadata": {
    "collapsed": true
   },
   "outputs": [],
   "source": [
    "def decorator_function(original_function):\n",
    "    def wrapper_function():\n",
    "        return(original_function())\n",
    "    return(wrapper_function)\n",
    "\n",
    "def display():\n",
    "    print(\"Display function ran\")"
   ]
  },
  {
   "cell_type": "code",
   "execution_count": 15,
   "metadata": {},
   "outputs": [
    {
     "data": {
      "text/plain": [
       "<function __main__.decorator_function.<locals>.wrapper_function>"
      ]
     },
     "execution_count": 15,
     "metadata": {},
     "output_type": "execute_result"
    }
   ],
   "source": [
    "# Test it\n",
    "decorated_display = decorator_function(display)\n",
    "decorated_display"
   ]
  },
  {
   "cell_type": "code",
   "execution_count": 16,
   "metadata": {},
   "outputs": [
    {
     "name": "stdout",
     "output_type": "stream",
     "text": [
      "Display function ran\n"
     ]
    }
   ],
   "source": [
    "decorated_display()"
   ]
  },
  {
   "cell_type": "code",
   "execution_count": 17,
   "metadata": {
    "collapsed": true
   },
   "outputs": [],
   "source": [
    "def decorator_function(original_function):\n",
    "    def wrapper_function():\n",
    "        print(\"Wrapper ran before {}\".format(original_function.__name__))\n",
    "        return(original_function())\n",
    "    return(wrapper_function)\n",
    "\n",
    "def display():\n",
    "    print(\"Display function ran\")"
   ]
  },
  {
   "cell_type": "code",
   "execution_count": 18,
   "metadata": {},
   "outputs": [
    {
     "data": {
      "text/plain": [
       "<function __main__.decorator_function.<locals>.wrapper_function>"
      ]
     },
     "execution_count": 18,
     "metadata": {},
     "output_type": "execute_result"
    }
   ],
   "source": [
    "# Test it\n",
    "decorated_display = decorator_function(display)\n",
    "decorated_display"
   ]
  },
  {
   "cell_type": "code",
   "execution_count": 19,
   "metadata": {},
   "outputs": [
    {
     "name": "stdout",
     "output_type": "stream",
     "text": [
      "Wrapper ran before display\n",
      "Display function ran\n"
     ]
    }
   ],
   "source": [
    "decorated_display()"
   ]
  },
  {
   "cell_type": "markdown",
   "metadata": {},
   "source": [
    "## Now decorate the functions\n",
    "\n",
    "**@Decorator_Function_Name**"
   ]
  },
  {
   "cell_type": "code",
   "execution_count": 20,
   "metadata": {
    "collapsed": true
   },
   "outputs": [],
   "source": [
    "def decorator_function(original_function):\n",
    "    def wrapper_function():\n",
    "        print(\"Wrapper ran before {}\".format(original_function.__name__))\n",
    "        return(original_function())\n",
    "    return(wrapper_function)\n",
    "\n",
    "@decorator_function\n",
    "def display():\n",
    "    print(\"Display function ran\")"
   ]
  },
  {
   "cell_type": "code",
   "execution_count": 24,
   "metadata": {},
   "outputs": [
    {
     "data": {
      "text/plain": [
       "<function __main__.decorator_function.<locals>.wrapper_function>"
      ]
     },
     "execution_count": 24,
     "metadata": {},
     "output_type": "execute_result"
    }
   ],
   "source": [
    "# Test it\n",
    "display"
   ]
  },
  {
   "cell_type": "code",
   "execution_count": 25,
   "metadata": {},
   "outputs": [
    {
     "name": "stdout",
     "output_type": "stream",
     "text": [
      "Wrapper ran before display\n",
      "Display function ran\n"
     ]
    }
   ],
   "source": [
    "display()"
   ]
  },
  {
   "cell_type": "markdown",
   "metadata": {},
   "source": [
    "This will not work if our original function takes arguments"
   ]
  },
  {
   "cell_type": "code",
   "execution_count": 28,
   "metadata": {},
   "outputs": [
    {
     "name": "stdout",
     "output_type": "stream",
     "text": [
      "display_info ran with arguments (Mario, 21)\n"
     ]
    }
   ],
   "source": [
    "def display_info(name, age):\n",
    "    print(\"display_info ran with arguments ({}, {})\".format(name, age))\n",
    "\n",
    "display_info(\"Mario\", 21)"
   ]
  },
  {
   "cell_type": "code",
   "execution_count": 30,
   "metadata": {},
   "outputs": [
    {
     "ename": "TypeError",
     "evalue": "wrapper_function() takes 0 positional arguments but 2 were given",
     "output_type": "error",
     "traceback": [
      "\u001b[1;31m---------------------------------------------------------------------------\u001b[0m",
      "\u001b[1;31mTypeError\u001b[0m                                 Traceback (most recent call last)",
      "\u001b[1;32m<ipython-input-30-10c93ee83132>\u001b[0m in \u001b[0;36m<module>\u001b[1;34m()\u001b[0m\n\u001b[0;32m      3\u001b[0m     \u001b[0mprint\u001b[0m\u001b[1;33m(\u001b[0m\u001b[1;34m\"display_info ran with arguments ({}, {})\"\u001b[0m\u001b[1;33m.\u001b[0m\u001b[0mformat\u001b[0m\u001b[1;33m(\u001b[0m\u001b[0mname\u001b[0m\u001b[1;33m,\u001b[0m \u001b[0mage\u001b[0m\u001b[1;33m)\u001b[0m\u001b[1;33m)\u001b[0m\u001b[1;33m\u001b[0m\u001b[0m\n\u001b[0;32m      4\u001b[0m \u001b[1;33m\u001b[0m\u001b[0m\n\u001b[1;32m----> 5\u001b[1;33m \u001b[0mdisplay_info\u001b[0m\u001b[1;33m(\u001b[0m\u001b[1;34m\"Joe\"\u001b[0m\u001b[1;33m,\u001b[0m \u001b[1;36m55\u001b[0m\u001b[1;33m)\u001b[0m\u001b[1;33m\u001b[0m\u001b[0m\n\u001b[0m",
      "\u001b[1;31mTypeError\u001b[0m: wrapper_function() takes 0 positional arguments but 2 were given"
     ]
    }
   ],
   "source": [
    "@decorator_function\n",
    "def display_info(name, age):\n",
    "    print(\"display_info ran with arguments ({}, {})\".format(name, age))\n",
    "    \n",
    "display_info(\"Joe\", 55)"
   ]
  },
  {
   "cell_type": "markdown",
   "metadata": {},
   "source": [
    "We can fix this with **\\*args** and **\\*\\*kwargs**"
   ]
  },
  {
   "cell_type": "code",
   "execution_count": 31,
   "metadata": {
    "collapsed": true
   },
   "outputs": [],
   "source": [
    "def decorator_function(original_function):\n",
    "    def wrapper_function(*args, **kwargs):\n",
    "        print(\"Wrapper ran before {}\".format(original_function.__name__))\n",
    "        return(original_function(*args, **kwargs))\n",
    "    return(wrapper_function)\n",
    "\n",
    "@decorator_function\n",
    "def display():\n",
    "    print(\"Display function ran\")\n",
    "\n",
    "@decorator_function\n",
    "def display_info(name, age):\n",
    "    print(\"display_info ran with arguments ({}, {})\".format(name, age))"
   ]
  },
  {
   "cell_type": "code",
   "execution_count": 32,
   "metadata": {},
   "outputs": [
    {
     "name": "stdout",
     "output_type": "stream",
     "text": [
      "Wrapper ran before display\n",
      "Display function ran\n"
     ]
    }
   ],
   "source": [
    "display()"
   ]
  },
  {
   "cell_type": "code",
   "execution_count": 33,
   "metadata": {},
   "outputs": [
    {
     "name": "stdout",
     "output_type": "stream",
     "text": [
      "Wrapper ran before display_info\n",
      "display_info ran with arguments (Wookie, 33)\n"
     ]
    }
   ],
   "source": [
    "display_info(\"Wookie\", 33)"
   ]
  },
  {
   "cell_type": "markdown",
   "metadata": {},
   "source": [
    "### Example: escape unicode"
   ]
  },
  {
   "cell_type": "code",
   "execution_count": 37,
   "metadata": {},
   "outputs": [
    {
     "data": {
      "text/plain": [
       "\"'M\\\\xe9xico'\""
      ]
     },
     "execution_count": 37,
     "metadata": {},
     "output_type": "execute_result"
    }
   ],
   "source": [
    "def escape_unicode(f):\n",
    "    def wrap(*args, **kwargs):\n",
    "        return(ascii(f(*args, **kwargs)))\n",
    "    return wrap\n",
    "\n",
    "@escape_unicode    \n",
    "def mexico_city():\n",
    "    return(\"México\")\n",
    "\n",
    "mexico_city()"
   ]
  },
  {
   "cell_type": "markdown",
   "metadata": {},
   "source": [
    "### What can be a Decorator?\n",
    "- Class Objects, which can be callable with the **dunder call**\n",
    "- Functions as decorators"
   ]
  },
  {
   "cell_type": "markdown",
   "metadata": {},
   "source": [
    "# Classes as Decorators"
   ]
  },
  {
   "cell_type": "code",
   "execution_count": 39,
   "metadata": {},
   "outputs": [],
   "source": [
    "class DecoratorClass(object):\n",
    "    def __init__(self, original_function):\n",
    "        self.original_function = original_function\n",
    "    def __call__(self, *args, **kwargs):\n",
    "        print(\"Call method executed before {}\".format(self.original_function))\n",
    "        return(self.original_function(*args, **kwargs))\n",
    "    \n",
    "@DecoratorClass\n",
    "def display():\n",
    "    print(\"Display function ran\")\n",
    "\n",
    "@DecoratorClass\n",
    "def display_info(name, age):\n",
    "    print(\"display_info ran with arguments ({}, {})\".format(name, age))"
   ]
  },
  {
   "cell_type": "code",
   "execution_count": 40,
   "metadata": {},
   "outputs": [
    {
     "name": "stdout",
     "output_type": "stream",
     "text": [
      "Call method executed before <function display at 0x000001A238A29598>\n",
      "Display function ran\n"
     ]
    }
   ],
   "source": [
    "display()"
   ]
  },
  {
   "cell_type": "code",
   "execution_count": 41,
   "metadata": {},
   "outputs": [
    {
     "name": "stdout",
     "output_type": "stream",
     "text": [
      "Call method executed before <function display_info at 0x000001A238A29A60>\n",
      "display_info ran with arguments (Solo, 99)\n"
     ]
    }
   ],
   "source": [
    "display_info(\"Solo\", 99)"
   ]
  },
  {
   "cell_type": "markdown",
   "metadata": {},
   "source": [
    "### Instances of Decorators\n",
    "A class instance."
   ]
  },
  {
   "cell_type": "code",
   "execution_count": 49,
   "metadata": {
    "collapsed": true
   },
   "outputs": [],
   "source": [
    "class Trace:\n",
    "    def __init__(self):\n",
    "        self._enable = True\n",
    "    def __call__(self, f):\n",
    "        def wrap(*args, **kwargs):\n",
    "            if self._enable:\n",
    "                print(\"Calling {}\".format(f.__name__))\n",
    "            return(f(*args, **kwargs))\n",
    "        return(wrap)\n",
    "\n",
    "# Create an instance\n",
    "trace = Trace()\n",
    "\n",
    "@trace\n",
    "def rotate_list(myList):\n",
    "    return(myList[1:] + [myList[0]])"
   ]
  },
  {
   "cell_type": "markdown",
   "metadata": {},
   "source": [
    "Unlike our previous example the class object itself is **not** the decorator, rather an instance of the class is!"
   ]
  },
  {
   "cell_type": "code",
   "execution_count": 50,
   "metadata": {},
   "outputs": [
    {
     "name": "stdout",
     "output_type": "stream",
     "text": [
      "Calling rotate_list\n"
     ]
    }
   ],
   "source": [
    "# Test it\n",
    "theList = [1,2,3]\n",
    "theRotatedList = rotate_list(theList)"
   ]
  },
  {
   "cell_type": "code",
   "execution_count": 51,
   "metadata": {},
   "outputs": [],
   "source": [
    "# turn off the enable key from the instance\n",
    "\n",
    "trace._enable = False\n",
    "\n",
    "# Test it\n",
    "theList = [1,2,3]\n",
    "theRotatedList = rotate_list(theList)"
   ]
  },
  {
   "cell_type": "markdown",
   "metadata": {},
   "source": [
    "# Back to function decorators"
   ]
  },
  {
   "cell_type": "code",
   "execution_count": 61,
   "metadata": {},
   "outputs": [],
   "source": [
    "import time\n",
    "\n",
    "def my_timer(original_function):\n",
    "    \"\"\"\n",
    "    Helps you keep track of the logging part of a function\n",
    "    \"\"\"\n",
    "    def wrapper(*args, **kwargs):\n",
    "        t1 = time.time()\n",
    "        result = original_function(*args, **kwargs)\n",
    "        t2 = time.time()\n",
    "        print(\"Function: {} Time: {}\".format(original_function, t2-t1))\n",
    "        return(result)\n",
    "    return(wrapper)\n",
    "\n",
    "# Test it\n",
    "@my_timer\n",
    "def display_info(name, age):\n",
    "    time.sleep(1)\n",
    "    print(\"Display info ran ({}, {})\".format(name, age))\n"
   ]
  },
  {
   "cell_type": "code",
   "execution_count": 62,
   "metadata": {},
   "outputs": [
    {
     "name": "stdout",
     "output_type": "stream",
     "text": [
      "Display info ran (what, 10)\n",
      "Function: <function display_info at 0x000001A238B14620> Time: 1.0002541542053223\n"
     ]
    }
   ],
   "source": [
    "# Test it\n",
    "display_info(\"what\", 10)"
   ]
  },
  {
   "cell_type": "markdown",
   "metadata": {},
   "source": [
    "## Multiple Decorators"
   ]
  },
  {
   "cell_type": "code",
   "execution_count": 83,
   "metadata": {
    "scrolled": true
   },
   "outputs": [],
   "source": [
    "def my_logger(f):\n",
    "    import logging\n",
    "    logging.basicConfig(filename=\"{}.log\".format(f.__name__), level=logging.INFO)\n",
    "    def wrapper(*args, **kwargs):\n",
    "        logging.info(\"Ran with args: {}, and kwargs: {}\".format(args, kwargs))\n",
    "        return(f(*args, **kwargs))\n",
    "    return(wrapper)\n",
    "\n",
    "@my_logger\n",
    "def display_info(name, age):\n",
    "    time.sleep(1)\n",
    "    print(\"Display info ran ({}, {})\".format(name, age))"
   ]
  },
  {
   "cell_type": "code",
   "execution_count": 84,
   "metadata": {},
   "outputs": [
    {
     "name": "stdout",
     "output_type": "stream",
     "text": [
      "Display info ran (Weber, 125)\n"
     ]
    }
   ],
   "source": [
    "# Test it\n",
    "display_info(\"Weber\", 125)"
   ]
  },
  {
   "cell_type": "code",
   "execution_count": 86,
   "metadata": {},
   "outputs": [
    {
     "name": "stdout",
     "output_type": "stream",
     "text": [
      "Display info ran (mario, 21)\n",
      "Function: <function my_logger.<locals>.wrapper at 0x000001A238B91E18> Time: 1.0009534358978271\n"
     ]
    }
   ],
   "source": [
    "# Test it with multiple decorators\n",
    "@my_timer\n",
    "@my_logger\n",
    "def display_info(name, age):\n",
    "    time.sleep(1)\n",
    "    print(\"Display info ran ({}, {})\".format(name, age))\n",
    "\n",
    "display_info(\"mario\", 21)"
   ]
  },
  {
   "cell_type": "code",
   "execution_count": 87,
   "metadata": {},
   "outputs": [
    {
     "name": "stdout",
     "output_type": "stream",
     "text": [
      "Display info ran (george, 36)\n",
      "Function: <function display_info at 0x000001A238B7E950> Time: 1.000154733657837\n"
     ]
    }
   ],
   "source": [
    "# Test it with multiple decorators (switch order of decorators)\n",
    "@my_logger\n",
    "@my_timer\n",
    "def display_info(name, age):\n",
    "    time.sleep(1)\n",
    "    print(\"Display info ran ({}, {})\".format(name, age))\n",
    "\n",
    "display_info(\"george\", 36)"
   ]
  },
  {
   "cell_type": "markdown",
   "metadata": {},
   "source": [
    "Wrap everything"
   ]
  },
  {
   "cell_type": "code",
   "execution_count": 89,
   "metadata": {
    "collapsed": true
   },
   "outputs": [],
   "source": [
    "import time\n",
    "from functools import wraps\n",
    "\n",
    "def my_logger(f):\n",
    "    import logging\n",
    "    logging.basicConfig(filename=\"{}.log\".format(f.__name__), level=logging.INFO)\n",
    "    @wraps(f)\n",
    "    def wrapper(*args, **kwargs):\n",
    "        logging.info(\"Ran with args: {}, and kwargs: {}\".format(args, kwargs))\n",
    "        return(f(*args, **kwargs))\n",
    "    return(wrapper)\n",
    "\n",
    "def my_timer(original_function):\n",
    "    @wraps(original_function)\n",
    "    def wrapper(*args, **kwargs):\n",
    "        t1 = time.time()\n",
    "        result = original_function(*args, **kwargs)\n",
    "        t2 = time.time()\n",
    "        print(\"Function: {} Time: {}\".format(original_function, t2-t1))\n",
    "        return(result)\n",
    "    return(wrapper)"
   ]
  },
  {
   "cell_type": "code",
   "execution_count": 90,
   "metadata": {},
   "outputs": [
    {
     "name": "stdout",
     "output_type": "stream",
     "text": [
      "Display info ran (wraps, 107)\n",
      "Function: <function display_info at 0x000001A238A296A8> Time: 1.0004613399505615\n"
     ]
    }
   ],
   "source": [
    "# Test it with multiple decorators\n",
    "@my_logger\n",
    "@my_timer\n",
    "def display_info(name, age):\n",
    "    time.sleep(1)\n",
    "    print(\"Display info ran ({}, {})\".format(name, age))\n",
    "\n",
    "display_info(\"wraps\", 107)"
   ]
  },
  {
   "cell_type": "code",
   "execution_count": null,
   "metadata": {
    "collapsed": true
   },
   "outputs": [],
   "source": []
  }
 ],
 "metadata": {
  "kernelspec": {
   "display_name": "Python 3",
   "language": "python",
   "name": "python3"
  },
  "language_info": {
   "codemirror_mode": {
    "name": "ipython",
    "version": 3
   },
   "file_extension": ".py",
   "mimetype": "text/x-python",
   "name": "python",
   "nbconvert_exporter": "python",
   "pygments_lexer": "ipython3",
   "version": "3.5.1"
  }
 },
 "nbformat": 4,
 "nbformat_minor": 2
}
