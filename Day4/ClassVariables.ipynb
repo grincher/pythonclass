{
 "cells": [
  {
   "cell_type": "markdown",
   "metadata": {},
   "source": [
    "# Class Variables"
   ]
  },
  {
   "cell_type": "code",
   "execution_count": 1,
   "metadata": {
    "collapsed": true
   },
   "outputs": [],
   "source": [
    "class Employee:\n",
    "    def __init__(self, first, last, pay):\n",
    "        self.first = first\n",
    "        self.last = last\n",
    "        self.pay = pay\n",
    "        self.email = first + \".\" + last + \"@weber.edu\"\n",
    "    def fullname(self):\n",
    "        return(\"{} {}\".format(self.first, self.last))"
   ]
  },
  {
   "cell_type": "code",
   "execution_count": 2,
   "metadata": {},
   "outputs": [
    {
     "name": "stdout",
     "output_type": "stream",
     "text": [
      "Jack Smith\n",
      "Joe Anderson\n"
     ]
    }
   ],
   "source": [
    "# Test it\n",
    "employee1 = Employee(\"Jack\", \"Smith\", 0)\n",
    "employee2 = Employee(\"Joe\", \"Anderson\", 2)\n",
    "employee3 = Employee(\"John\", \"Wicker\", 50000)\n",
    "\n",
    "print(employee1.fullname())\n",
    "print(employee2.fullname())"
   ]
  },
  {
   "cell_type": "markdown",
   "metadata": {},
   "source": [
    "remember to use fullname as function, not a variable"
   ]
  },
  {
   "cell_type": "markdown",
   "metadata": {},
   "source": [
    "## Class variables\n",
    "They are visible for every instance of the class.  Instead of local variables to one instance."
   ]
  },
  {
   "cell_type": "code",
   "execution_count": 5,
   "metadata": {},
   "outputs": [],
   "source": [
    "class Employee:\n",
    "    def __init__(self, first, last, pay):\n",
    "        self.first = first\n",
    "        self.last = last\n",
    "        self.pay = pay\n",
    "        self.email = first + \".\" + last + \"@weber.edu\"\n",
    "    def fullname(self):\n",
    "        return(\"{} {}\".format(self.first, self.last))\n",
    "    def apply_raise(self):\n",
    "        self.pay = int(self.pay * 1.04) # 4% raise"
   ]
  },
  {
   "cell_type": "code",
   "execution_count": 11,
   "metadata": {},
   "outputs": [
    {
     "name": "stdout",
     "output_type": "stream",
     "text": [
      "22000\n",
      "22880\n"
     ]
    }
   ],
   "source": [
    "# Test it\n",
    "employee = Employee(\"Jack\", \"Smith\", 22000)\n",
    "print(employee.pay)\n",
    "employee.apply_raise()\n",
    "print(employee.pay)"
   ]
  },
  {
   "cell_type": "code",
   "execution_count": 12,
   "metadata": {
    "collapsed": true
   },
   "outputs": [],
   "source": [
    "# What if you wanted to increase the 4%?  YOu do not want to do it manually.  make it a class variable\n",
    "\n",
    "class Employee:\n",
    "    raise_amount = 1.04   # wrong!\n",
    "    def __init__(self, first, last, pay):\n",
    "        self.first = first\n",
    "        self.last = last\n",
    "        self.pay = pay\n",
    "        self.email = first + \".\" + last + \"@weber.edu\"\n",
    "    def fullname(self):\n",
    "        return(\"{} {}\".format(self.first, self.last))\n",
    "    def apply_raise(self):\n",
    "        self.pay = int(self.pay * raise_amount)"
   ]
  },
  {
   "cell_type": "code",
   "execution_count": 13,
   "metadata": {},
   "outputs": [
    {
     "name": "stdout",
     "output_type": "stream",
     "text": [
      "22000\n"
     ]
    },
    {
     "ename": "NameError",
     "evalue": "name 'raise_amount' is not defined",
     "output_type": "error",
     "traceback": [
      "\u001b[1;31m---------------------------------------------------------------------------\u001b[0m",
      "\u001b[1;31mNameError\u001b[0m                                 Traceback (most recent call last)",
      "\u001b[1;32m<ipython-input-13-57725bc9971f>\u001b[0m in \u001b[0;36m<module>\u001b[1;34m()\u001b[0m\n\u001b[0;32m      2\u001b[0m \u001b[0memployee\u001b[0m \u001b[1;33m=\u001b[0m \u001b[0mEmployee\u001b[0m\u001b[1;33m(\u001b[0m\u001b[1;34m\"Jack\"\u001b[0m\u001b[1;33m,\u001b[0m \u001b[1;34m\"Smith\"\u001b[0m\u001b[1;33m,\u001b[0m \u001b[1;36m22000\u001b[0m\u001b[1;33m)\u001b[0m\u001b[1;33m\u001b[0m\u001b[0m\n\u001b[0;32m      3\u001b[0m \u001b[0mprint\u001b[0m\u001b[1;33m(\u001b[0m\u001b[0memployee\u001b[0m\u001b[1;33m.\u001b[0m\u001b[0mpay\u001b[0m\u001b[1;33m)\u001b[0m\u001b[1;33m\u001b[0m\u001b[0m\n\u001b[1;32m----> 4\u001b[1;33m \u001b[0memployee\u001b[0m\u001b[1;33m.\u001b[0m\u001b[0mapply_raise\u001b[0m\u001b[1;33m(\u001b[0m\u001b[1;33m)\u001b[0m\u001b[1;33m\u001b[0m\u001b[0m\n\u001b[0m\u001b[0;32m      5\u001b[0m \u001b[0mprint\u001b[0m\u001b[1;33m(\u001b[0m\u001b[0memployee\u001b[0m\u001b[1;33m.\u001b[0m\u001b[0mpay\u001b[0m\u001b[1;33m)\u001b[0m\u001b[1;33m\u001b[0m\u001b[0m\n",
      "\u001b[1;32m<ipython-input-12-78ee1d1f98a6>\u001b[0m in \u001b[0;36mapply_raise\u001b[1;34m(self)\u001b[0m\n\u001b[0;32m     11\u001b[0m         \u001b[1;32mreturn\u001b[0m\u001b[1;33m(\u001b[0m\u001b[1;34m\"{} {}\"\u001b[0m\u001b[1;33m.\u001b[0m\u001b[0mformat\u001b[0m\u001b[1;33m(\u001b[0m\u001b[0mself\u001b[0m\u001b[1;33m.\u001b[0m\u001b[0mfirst\u001b[0m\u001b[1;33m,\u001b[0m \u001b[0mself\u001b[0m\u001b[1;33m.\u001b[0m\u001b[0mlast\u001b[0m\u001b[1;33m)\u001b[0m\u001b[1;33m)\u001b[0m\u001b[1;33m\u001b[0m\u001b[0m\n\u001b[0;32m     12\u001b[0m     \u001b[1;32mdef\u001b[0m \u001b[0mapply_raise\u001b[0m\u001b[1;33m(\u001b[0m\u001b[0mself\u001b[0m\u001b[1;33m)\u001b[0m\u001b[1;33m:\u001b[0m\u001b[1;33m\u001b[0m\u001b[0m\n\u001b[1;32m---> 13\u001b[1;33m         \u001b[0mself\u001b[0m\u001b[1;33m.\u001b[0m\u001b[0mpay\u001b[0m \u001b[1;33m=\u001b[0m \u001b[0mint\u001b[0m\u001b[1;33m(\u001b[0m\u001b[0mself\u001b[0m\u001b[1;33m.\u001b[0m\u001b[0mpay\u001b[0m \u001b[1;33m*\u001b[0m \u001b[0mraise_amount\u001b[0m\u001b[1;33m)\u001b[0m\u001b[1;33m\u001b[0m\u001b[0m\n\u001b[0m",
      "\u001b[1;31mNameError\u001b[0m: name 'raise_amount' is not defined"
     ]
    }
   ],
   "source": [
    "# Test it\n",
    "employee = Employee(\"Jack\", \"Smith\", 22000)\n",
    "print(employee.pay)\n",
    "employee.apply_raise()\n",
    "print(employee.pay)"
   ]
  },
  {
   "cell_type": "code",
   "execution_count": 14,
   "metadata": {
    "collapsed": true
   },
   "outputs": [],
   "source": [
    "class Employee:\n",
    "    raise_amount = 1.04\n",
    "    def __init__(self, first, last, pay):\n",
    "        self.first = first\n",
    "        self.last = last\n",
    "        self.pay = pay\n",
    "        self.email = first + \".\" + last + \"@weber.edu\"\n",
    "    def fullname(self):\n",
    "        return(\"{} {}\".format(self.first, self.last))\n",
    "    def apply_raise(self):\n",
    "        # You cannot access the class variable directly.\n",
    "        # You need the class name\n",
    "        self.pay = int(self.pay * Employee.raise_amount)"
   ]
  },
  {
   "cell_type": "code",
   "execution_count": 15,
   "metadata": {},
   "outputs": [
    {
     "name": "stdout",
     "output_type": "stream",
     "text": [
      "22000\n",
      "22880\n"
     ]
    }
   ],
   "source": [
    "# Test it\n",
    "employee = Employee(\"Jack\", \"Smith\", 22000)\n",
    "print(employee.pay)\n",
    "employee.apply_raise()\n",
    "print(employee.pay)"
   ]
  },
  {
   "cell_type": "code",
   "execution_count": 16,
   "metadata": {
    "collapsed": true
   },
   "outputs": [],
   "source": [
    "class Employee:\n",
    "    raise_amount = 1.04\n",
    "    def __init__(self, first, last, pay):\n",
    "        self.first = first\n",
    "        self.last = last\n",
    "        self.pay = pay\n",
    "        self.email = first + \".\" + last + \"@weber.edu\"\n",
    "    def fullname(self):\n",
    "        return(\"{} {}\".format(self.first, self.last))\n",
    "    def apply_raise(self):\n",
    "        # You cannot access the class variable directly.\n",
    "        # You need the class name\n",
    "        self.pay = int(self.pay * self.raise_amount)"
   ]
  },
  {
   "cell_type": "code",
   "execution_count": 17,
   "metadata": {},
   "outputs": [
    {
     "name": "stdout",
     "output_type": "stream",
     "text": [
      "22000\n",
      "22880\n"
     ]
    }
   ],
   "source": [
    "# Test it\n",
    "employee = Employee(\"Jack\", \"Smith\", 22000)\n",
    "print(employee.pay)\n",
    "employee.apply_raise()\n",
    "print(employee.pay)"
   ]
  },
  {
   "cell_type": "code",
   "execution_count": 18,
   "metadata": {},
   "outputs": [
    {
     "name": "stdout",
     "output_type": "stream",
     "text": [
      "1.04\n",
      "1.04\n",
      "1.04\n"
     ]
    }
   ],
   "source": [
    "# More scenarios\n",
    "\n",
    "employee1 = Employee(\"Jack\", \"Smith\", 0)\n",
    "employee2 = Employee(\"Joe\", \"Anderson\", 2)\n",
    "employee3 = Employee(\"John\", \"Wicker\", 50000)\n",
    "employee4 = Employee(\"Sally\", \"Perez\", 75000)\n",
    "\n",
    "print(Employee.raise_amount) # class variable\n",
    "print(employee1.raise_amount)\n",
    "print(employee2.raise_amount)"
   ]
  },
  {
   "cell_type": "markdown",
   "metadata": {},
   "source": [
    "You can access your variables both ways\n",
    "1. first it checks if the instance has this attribute\n",
    "2. it will check if the class has it or if the class inherits from another class"
   ]
  },
  {
   "cell_type": "code",
   "execution_count": 19,
   "metadata": {},
   "outputs": [
    {
     "name": "stdout",
     "output_type": "stream",
     "text": [
      "{'pay': 50000, 'email': 'John.Wicker@weber.edu', 'last': 'Wicker', 'first': 'John'}\n"
     ]
    }
   ],
   "source": [
    "print(employee3.__dict__)"
   ]
  },
  {
   "cell_type": "code",
   "execution_count": 20,
   "metadata": {
    "collapsed": true
   },
   "outputs": [],
   "source": [
    "# why is raise_amount not in the dictionary?  "
   ]
  },
  {
   "cell_type": "code",
   "execution_count": 21,
   "metadata": {},
   "outputs": [
    {
     "name": "stdout",
     "output_type": "stream",
     "text": [
      "{'__dict__': <attribute '__dict__' of 'Employee' objects>, 'raise_amount': 1.04, '__init__': <function Employee.__init__ at 0x000001EE3A417840>, '__module__': '__main__', '__doc__': None, 'fullname': <function Employee.fullname at 0x000001EE3A4178C8>, '__weakref__': <attribute '__weakref__' of 'Employee' objects>, 'apply_raise': <function Employee.apply_raise at 0x000001EE3A417950>}\n"
     ]
    }
   ],
   "source": [
    "print(Employee.__dict__)"
   ]
  },
  {
   "cell_type": "code",
   "execution_count": 22,
   "metadata": {},
   "outputs": [
    {
     "name": "stdout",
     "output_type": "stream",
     "text": [
      "1.05\n",
      "1.05\n",
      "1.05\n"
     ]
    }
   ],
   "source": [
    "Employee.raise_amount = 1.05  # update class variable\n",
    "print(Employee.raise_amount) # class variable\n",
    "print(employee1.raise_amount)\n",
    "print(employee2.raise_amount)"
   ]
  },
  {
   "cell_type": "code",
   "execution_count": 23,
   "metadata": {},
   "outputs": [
    {
     "name": "stdout",
     "output_type": "stream",
     "text": [
      "1.05\n",
      "1.09\n",
      "1.05\n"
     ]
    }
   ],
   "source": [
    "# what if raise amount is changed in an instance?\n",
    "\n",
    "employee1.raise_amount = 1.09\n",
    "\n",
    "print(Employee.raise_amount) # class variable\n",
    "print(employee1.raise_amount)\n",
    "print(employee2.raise_amount)"
   ]
  },
  {
   "cell_type": "code",
   "execution_count": 24,
   "metadata": {},
   "outputs": [
    {
     "name": "stdout",
     "output_type": "stream",
     "text": [
      "{'pay': 0, 'email': 'Jack.Smith@weber.edu', 'last': 'Smith', 'first': 'Jack', 'raise_amount': 1.09}\n",
      "{'pay': 2, 'email': 'Joe.Anderson@weber.edu', 'last': 'Anderson', 'first': 'Joe'}\n"
     ]
    }
   ],
   "source": [
    "print(employee1.__dict__)\n",
    "print(employee2.__dict__)"
   ]
  },
  {
   "cell_type": "markdown",
   "metadata": {},
   "source": [
    "*employee1* now has the **raise_amount** in the local namespace.  This allows any subclass to overwrite theis value if needed."
   ]
  },
  {
   "cell_type": "code",
   "execution_count": 25,
   "metadata": {
    "collapsed": true
   },
   "outputs": [],
   "source": [
    "class Employee:\n",
    "    num_of_emp = 0\n",
    "    raise_amount = 1.04\n",
    "    def __init__(self, first, last, pay):\n",
    "        self.first = first\n",
    "        self.last = last\n",
    "        self.pay = pay\n",
    "        self.email = first + \".\" + last + \"@weber.edu\"\n",
    "        Employee.num_of_emp += 1\n",
    "    def fullname(self):\n",
    "        return(\"{} {}\".format(self.first, self.last))\n",
    "    def apply_raise(self):\n",
    "        self.pay = int(self.pay * self.raise_amount)"
   ]
  },
  {
   "cell_type": "code",
   "execution_count": 26,
   "metadata": {},
   "outputs": [
    {
     "name": "stdout",
     "output_type": "stream",
     "text": [
      "0\n"
     ]
    }
   ],
   "source": [
    "print(Employee.num_of_emp)"
   ]
  },
  {
   "cell_type": "code",
   "execution_count": 27,
   "metadata": {},
   "outputs": [
    {
     "name": "stdout",
     "output_type": "stream",
     "text": [
      "2\n"
     ]
    }
   ],
   "source": [
    "employee1 = Employee(\"Jack\", \"Smith\", 0)\n",
    "employee2 = Employee(\"Joe\", \"Anderson\", 2)\n",
    "print(Employee.num_of_emp)"
   ]
  },
  {
   "cell_type": "code",
   "execution_count": null,
   "metadata": {
    "collapsed": true
   },
   "outputs": [],
   "source": []
  }
 ],
 "metadata": {
  "kernelspec": {
   "display_name": "Python 3",
   "language": "python",
   "name": "python3"
  },
  "language_info": {
   "codemirror_mode": {
    "name": "ipython",
    "version": 3
   },
   "file_extension": ".py",
   "mimetype": "text/x-python",
   "name": "python",
   "nbconvert_exporter": "python",
   "pygments_lexer": "ipython3",
   "version": "3.5.1"
  }
 },
 "nbformat": 4,
 "nbformat_minor": 2
}
