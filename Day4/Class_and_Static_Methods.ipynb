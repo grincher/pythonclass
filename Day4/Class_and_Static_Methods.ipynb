{
 "cells": [
  {
   "cell_type": "markdown",
   "metadata": {},
   "source": [
    "# Class Methods and Static Methods\n",
    "Regular methods in our classes take the **self** as the first argument.  To turn a regular method into a class method, use a decorator **@classmethod**."
   ]
  },
  {
   "cell_type": "code",
   "execution_count": 14,
   "metadata": {},
   "outputs": [],
   "source": [
    "class Employee:\n",
    "    num_of_emp = 0\n",
    "    raise_amount = 1.04\n",
    "    def __init__(self, first, last, pay):\n",
    "        self.first = first\n",
    "        self.last = last\n",
    "        self.pay = pay\n",
    "        self.email = first + \".\" + last + \"@weber.edu\"\n",
    "        Employee.num_of_emp += 1\n",
    "    def fullname(self):\n",
    "        return(\"{} {}\".format(self.first, self.last))\n",
    "    def apply_raise(self):\n",
    "        self.pay = int(self.pay * self.raise_amount)\n",
    "    @classmethod\n",
    "    def set_raise_amount(cls, amount):\n",
    "        cls.raise_amount = amount"
   ]
  },
  {
   "cell_type": "code",
   "execution_count": 15,
   "metadata": {},
   "outputs": [
    {
     "name": "stdout",
     "output_type": "stream",
     "text": [
      "1.04\n",
      "1.04\n",
      "1.04\n",
      "0.98\n",
      "0.98\n",
      "0.98\n"
     ]
    }
   ],
   "source": [
    "employee3 = Employee(\"John\", \"Wicker\", 50000)\n",
    "employee4 = Employee(\"Sally\", \"Perez\", 75000)\n",
    "\n",
    "print(Employee.raise_amount)\n",
    "print(employee3.raise_amount)\n",
    "print(employee4.raise_amount)\n",
    "Employee.set_raise_amount(0.98)\n",
    "print(Employee.raise_amount)\n",
    "print(employee3.raise_amount)\n",
    "print(employee4.raise_amount)"
   ]
  },
  {
   "cell_type": "code",
   "execution_count": 16,
   "metadata": {},
   "outputs": [
    {
     "name": "stdout",
     "output_type": "stream",
     "text": [
      "1.07\n",
      "1.07\n",
      "1.07\n"
     ]
    }
   ],
   "source": [
    "# Now update it through an instance\n",
    "employee3.set_raise_amount(1.07)\n",
    "print(Employee.raise_amount)\n",
    "print(employee3.raise_amount)\n",
    "print(employee4.raise_amount)"
   ]
  },
  {
   "cell_type": "code",
   "execution_count": 17,
   "metadata": {},
   "outputs": [
    {
     "name": "stdout",
     "output_type": "stream",
     "text": [
      "2\n",
      "2\n"
     ]
    }
   ],
   "source": [
    "employee3.set_raise_amount(1.25)\n",
    "employee4.set_raise_amount(1.1)\n",
    "Employee.set_raise_amount(2)\n",
    "print(employee3.raise_amount)\n",
    "print(employee4.raise_amount)"
   ]
  },
  {
   "cell_type": "code",
   "execution_count": 18,
   "metadata": {},
   "outputs": [
    {
     "name": "stdout",
     "output_type": "stream",
     "text": [
      "0.99\n",
      "2\n"
     ]
    }
   ],
   "source": [
    "employee3.raise_amount = 0.99\n",
    "print(employee3.raise_amount)\n",
    "print(employee4.raise_amount)"
   ]
  },
  {
   "cell_type": "code",
   "execution_count": 19,
   "metadata": {},
   "outputs": [
    {
     "name": "stdout",
     "output_type": "stream",
     "text": [
      "0.99\n",
      "0.5\n"
     ]
    }
   ],
   "source": [
    "Employee.set_raise_amount(0.5)\n",
    "print(employee3.raise_amount)\n",
    "print(employee4.raise_amount)"
   ]
  },
  {
   "cell_type": "markdown",
   "metadata": {},
   "source": [
    "## Alternative Constructors\n",
    "Provide multiple ways to create objects"
   ]
  },
  {
   "cell_type": "code",
   "execution_count": 28,
   "metadata": {},
   "outputs": [
    {
     "name": "stdout",
     "output_type": "stream",
     "text": [
      "{'first': 'Jan', 'pay': 50000, 'email': 'Jan.Perez@weber.edu', 'last': 'Perez'}\n",
      "{'first': 'Raymond', 'pay': 30000, 'email': 'Raymond.White@weber.edu', 'last': 'White'}\n",
      "{'first': 'Manuel', 'pay': '40000', 'email': 'Manuel.Garcia@weber.edu', 'last': 'Garcia'}\n",
      "{'first': 'Peter', 'pay': '60000', 'email': 'Peter.Glass@weber.edu', 'last': 'Glass'}\n",
      "{'first': 'Tear', 'pay': '50000', 'email': 'Tear.Took@weber.edu', 'last': 'Took'}\n",
      "{'first': 'Shon', 'pay': '70000', 'email': 'Shon.Zoo@weber.edu', 'last': 'Zoo'}\n"
     ]
    }
   ],
   "source": [
    "emp1 = Employee(\"Jan\", \"Perez\", 50000)\n",
    "emp2 = Employee(\"Raymond\", \"White\", 30000)\n",
    "# CSV records\n",
    "emp3_str = \"Manuel-Garcia-40000\"\n",
    "emp4_str = \"Peter-Glass-60000\"\n",
    "emp3_data = emp3_str.split(\"-\")\n",
    "emp4_data = emp4_str.split(\"-\")\n",
    "emp3 = Employee(emp3_data[0], emp3_data[1], emp3_data[2])\n",
    "emp4 = Employee(emp4_data[0], emp4_data[1], emp4_data[2])\n",
    "\n",
    "emp5_str = \"Tear-Took-50000\"\n",
    "emp6_str = \"Shon-Zoo-70000\"\n",
    "first, last, pay = emp5_str.split('-')\n",
    "emp5 = Employee(first, last, pay)\n",
    "emp6 = Employee(*emp6_str.split('-'))\n",
    "print(emp1.__dict__)\n",
    "print(emp2.__dict__)\n",
    "print(emp3.__dict__)\n",
    "print(emp4.__dict__)\n",
    "print(emp5.__dict__)\n",
    "print(emp6.__dict__)"
   ]
  },
  {
   "cell_type": "markdown",
   "metadata": {},
   "source": [
    "When creating alternative constructors, the suggested naming convention is to begin with **from\\_name**"
   ]
  },
  {
   "cell_type": "code",
   "execution_count": 30,
   "metadata": {
    "collapsed": true
   },
   "outputs": [],
   "source": [
    "class Employee:\n",
    "    num_of_emp = 0\n",
    "    raise_amount = 1.04\n",
    "    def __init__(self, first, last, pay):\n",
    "        self.first = first\n",
    "        self.last = last\n",
    "        self.pay = pay\n",
    "        self.email = first + \".\" + last + \"@weber.edu\"\n",
    "        Employee.num_of_emp += 1\n",
    "    def fullname(self):\n",
    "        return(\"{} {}\".format(self.first, self.last))\n",
    "    def apply_raise(self):\n",
    "        self.pay = int(self.pay * self.raise_amount)\n",
    "    @classmethod\n",
    "    def set_raise_amount(cls, amount):\n",
    "        cls.raise_amount = amount\n",
    "    \n",
    "    # Create and return a new Employee from CVS string\n",
    "    @classmethod\n",
    "    def from_string(cls, emp_str):\n",
    "        first, last, pay = emp_str.split('-')\n",
    "        return(cls(first, last, pay))"
   ]
  },
  {
   "cell_type": "code",
   "execution_count": 33,
   "metadata": {},
   "outputs": [
    {
     "name": "stdout",
     "output_type": "stream",
     "text": [
      "Peter.Marlon@weber.edu\n"
     ]
    }
   ],
   "source": [
    "emp5_str = \"Peter-Marlon-20000\"\n",
    "emp5 = Employee.from_string(emp5_str)\n",
    "print(emp5.email)"
   ]
  },
  {
   "cell_type": "markdown",
   "metadata": {},
   "source": [
    "Review the **datetime** module for examples on multiple constructors."
   ]
  },
  {
   "cell_type": "code",
   "execution_count": 34,
   "metadata": {},
   "outputs": [
    {
     "data": {
      "text/plain": [
       "'C:\\\\Program Files\\\\Python35\\\\lib\\\\datetime.py'"
      ]
     },
     "execution_count": 34,
     "metadata": {},
     "output_type": "execute_result"
    }
   ],
   "source": [
    "import datetime\n",
    "datetime.__file__"
   ]
  },
  {
   "cell_type": "markdown",
   "metadata": {},
   "source": [
    "## Static Methods\n",
    "- Instance methods have the **self** as first parameter\n",
    "- Class methods have the **cls** as the first parameter\n",
    "- Static methods do not pass anything automatically.  They are just regular defenitions; except they are relevent to the class.\n",
    "    - They use a decorator **@staticmethod**"
   ]
  },
  {
   "cell_type": "code",
   "execution_count": 36,
   "metadata": {},
   "outputs": [],
   "source": [
    "class Employee:\n",
    "    num_of_emp = 0\n",
    "    raise_amount = 1.04\n",
    "    def __init__(self, first, last, pay):\n",
    "        self.first = first\n",
    "        self.last = last\n",
    "        self.pay = pay\n",
    "        self.email = first + \".\" + last + \"@weber.edu\"\n",
    "        Employee.num_of_emp += 1\n",
    "    def fullname(self):\n",
    "        return(\"{} {}\".format(self.first, self.last))\n",
    "    def apply_raise(self):\n",
    "        self.pay = int(self.pay * self.raise_amount)\n",
    "    @classmethod\n",
    "    def set_raise_amount(cls, amount):\n",
    "        cls.raise_amount = amount\n",
    "    \n",
    "    # Create and return a new Employee from CVS string\n",
    "    @classmethod\n",
    "    def from_string(cls, emp_str):\n",
    "        first, last, pay = emp_str.split('-')\n",
    "        return(cls(first, last, pay))\n",
    "    \n",
    "    @staticmethod\n",
    "    def is_workday(day):\n",
    "        \"\"\"\n",
    "        Monday == 0\n",
    "        Sunday == 6\n",
    "        \"\"\"\n",
    "        if day.weekday() == 5 or day.weekday() == 6:\n",
    "            return False\n",
    "        return True"
   ]
  },
  {
   "cell_type": "code",
   "execution_count": 38,
   "metadata": {},
   "outputs": [
    {
     "name": "stdout",
     "output_type": "stream",
     "text": [
      "True\n"
     ]
    }
   ],
   "source": [
    "import datetime\n",
    "emp1 = Employee(\"Jan\", \"Perez\", 50000)\n",
    "emp2 = Employee(\"Raymond\", \"White\", 30000)\n",
    "my_date = datetime.date(2017,5,15)\n",
    "print(Employee.is_workday(my_date))"
   ]
  },
  {
   "cell_type": "markdown",
   "metadata": {},
   "source": [
    "Note: on when to use static method<br>\n",
    "    If you do not access any attribute form the instance **self** or class **cls** you could define it as **static**"
   ]
  }
 ],
 "metadata": {
  "kernelspec": {
   "display_name": "Python 3",
   "language": "python",
   "name": "python3"
  },
  "language_info": {
   "codemirror_mode": {
    "name": "ipython",
    "version": 3
   },
   "file_extension": ".py",
   "mimetype": "text/x-python",
   "name": "python",
   "nbconvert_exporter": "python",
   "pygments_lexer": "ipython3",
   "version": "3.5.1"
  }
 },
 "nbformat": 4,
 "nbformat_minor": 2
}
